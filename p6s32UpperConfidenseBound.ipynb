{
  "nbformat": 4,
  "nbformat_minor": 0,
  "metadata": {
    "colab": {
      "provenance": [],
      "authorship_tag": "ABX9TyMIh55P/Mp1PNRIjTMlNd6u"
    },
    "kernelspec": {
      "name": "python3",
      "display_name": "Python 3"
    },
    "language_info": {
      "name": "python"
    }
  },
  "cells": [
    {
      "cell_type": "markdown",
      "source": [
        "#Upper Confidense Bound UCB"
      ],
      "metadata": {
        "id": "1wJ1t32w_CNH"
      }
    },
    {
      "cell_type": "markdown",
      "source": [
        "##Data Pre Processing"
      ],
      "metadata": {
        "id": "nd3pi3d7AeKn"
      }
    },
    {
      "cell_type": "code",
      "source": [
        "import numpy as np\n",
        "import matplotlib.pyplot as plt\n",
        "import pandas as pd"
      ],
      "metadata": {
        "id": "2xF6Rf9d_ABH"
      },
      "execution_count": 24,
      "outputs": []
    },
    {
      "cell_type": "code",
      "source": [
        "dataset = pd.read_csv('Ads_CTR_Optimisation.csv')"
      ],
      "metadata": {
        "id": "7LDtVIuJ_ABI"
      },
      "execution_count": 25,
      "outputs": []
    },
    {
      "cell_type": "markdown",
      "source": [
        "##Implementing UCB"
      ],
      "metadata": {
        "id": "r9ZmuRlxBGf0"
      }
    },
    {
      "cell_type": "code",
      "source": [
        "import math\n",
        "N,d = dataset.shape #(N - Number of rounds / Users; d - Number of Machines / ads)\n",
        "N=1000\n",
        "print(\"Number of rounds / Users:\", N)\n",
        "print(\"Number of Machines / ads:\", d)\n",
        "ads_selected = []\n",
        "numbers_of_selections = [0] * d\n",
        "sums_of_rewards = [0] * d\n",
        "total_rewards = 0\n",
        "\n",
        "for n in range(0, N):\n",
        "  ad = 0\n",
        "  max_upper_confidence_bound = 0\n",
        "  for i in range (0, d):\n",
        "    if (numbers_of_selections[i]>0):\n",
        "      average_reward = sums_of_rewards[i] / numbers_of_selections[i]\n",
        "      delta_i = math.sqrt(3/2 * math.log(n+1) / numbers_of_selections[i])\n",
        "      upper_bound = average_reward + delta_i\n",
        "    else:\n",
        "      upper_bound = 1e400\n",
        "    if (upper_bound > max_upper_confidence_bound):\n",
        "      max_upper_confidence_bound = upper_bound\n",
        "      ad = i\n",
        "  ads_selected.append(ad)\n",
        "  numbers_of_selections[ad] += 1\n",
        "  reward = dataset.values[n, ad]\n",
        "  sums_of_rewards[ad] += reward\n",
        "  total_rewards += reward"
      ],
      "metadata": {
        "colab": {
          "base_uri": "https://localhost:8080/"
        },
        "id": "oAuqVgCV_ABI",
        "outputId": "e4bb5bf2-6d14-4a0e-ec5f-ad9f2000e18c"
      },
      "execution_count": 26,
      "outputs": [
        {
          "output_type": "stream",
          "name": "stdout",
          "text": [
            "Number of rounds / Users: 1000\n",
            "Number of Machines / ads: 10\n"
          ]
        }
      ]
    },
    {
      "cell_type": "markdown",
      "source": [
        "##Visualising the results"
      ],
      "metadata": {
        "id": "MxqUXbgVUM5m"
      }
    },
    {
      "cell_type": "code",
      "source": [
        "plt.hist(ads_selected)\n",
        "plt.title('Histogram of ads selections')\n",
        "plt.xlabel('Ads')\n",
        "plt.ylabel('number of times each ad was selected')\n",
        "\n",
        "plt.show()"
      ],
      "metadata": {
        "colab": {
          "base_uri": "https://localhost:8080/",
          "height": 472
        },
        "id": "9OksXCLAUP8A",
        "outputId": "1341316a-6ab7-4d15-9527-499441d23e6a"
      },
      "execution_count": 27,
      "outputs": [
        {
          "output_type": "display_data",
          "data": {
            "text/plain": [
              "<Figure size 640x480 with 1 Axes>"
            ],
            "image/png": "[encoded data removed]"
          },
          "metadata": {}
        }
      ]
    }
  ]
}