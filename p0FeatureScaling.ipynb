{
  "nbformat": 4,
  "nbformat_minor": 0,
  "metadata": {
    "colab": {
      "provenance": [],
      "authorship_tag": "ABX9TyPgHqPzmNaueBj93oh3kqvQ"
    },
    "kernelspec": {
      "name": "python3",
      "display_name": "Python 3"
    },
    "language_info": {
      "name": "python"
    }
  },
  "cells": [
    {
      "cell_type": "markdown",
      "source": [
        "Feature scaling is of two types\n",
        "\n",
        "normalization : resulting values between 0 and 1\n",
        "(value - min value) / (max value - min value)\n",
        "\n",
        "Standardization : resulting values between -3 and 3\n",
        "(value - average) / standard deviation"
      ],
      "metadata": {
        "id": "I-27hk_OuWnS"
      }
    },
    {
      "cell_type": "markdown",
      "source": [
        "Import libraries"
      ],
      "metadata": {
        "id": "P7-OZTNWuMgs"
      }
    },
    {
      "cell_type": "code",
      "execution_count": null,
      "metadata": {
        "id": "CjhQ8ULrj4Ax"
      },
      "outputs": [],
      "source": [
        "import numpy as np"
      ]
    },
    {
      "cell_type": "markdown",
      "source": [
        "set up test data\n",
        "sal : Salary"
      ],
      "metadata": {
        "id": "2pOE-Yv3uQTm"
      }
    },
    {
      "cell_type": "code",
      "source": [
        "sal=[52000, 60000, 70000]\n",
        "age=[40, 44, 45]"
      ],
      "metadata": {
        "id": "U3qPQLLkj6WY"
      },
      "execution_count": null,
      "outputs": []
    },
    {
      "cell_type": "markdown",
      "source": [
        "calculate average and standard deviation of salary and age"
      ],
      "metadata": {
        "id": "4Am7jZ6Guzik"
      }
    },
    {
      "cell_type": "code",
      "source": [
        "np.average(sal)"
      ],
      "metadata": {
        "colab": {
          "base_uri": "https://localhost:8080/"
        },
        "id": "XdjTkGaPkFWc",
        "outputId": "ae27f49f-283b-4da6-bb11-431d4dc86af1"
      },
      "execution_count": null,
      "outputs": [
        {
          "output_type": "execute_result",
          "data": {
            "text/plain": [
              "60666.666666666664"
            ]
          },
          "metadata": {},
          "execution_count": 4
        }
      ]
    },
    {
      "cell_type": "code",
      "source": [
        "np.average(age)"
      ],
      "metadata": {
        "colab": {
          "base_uri": "https://localhost:8080/"
        },
        "id": "6Bf52IavkNN3",
        "outputId": "c51b81da-e3c9-4129-dc4c-af445faf4b11"
      },
      "execution_count": null,
      "outputs": [
        {
          "output_type": "execute_result",
          "data": {
            "text/plain": [
              "43.0"
            ]
          },
          "metadata": {},
          "execution_count": 6
        }
      ]
    },
    {
      "cell_type": "code",
      "source": [
        "np.std(sal)"
      ],
      "metadata": {
        "colab": {
          "base_uri": "https://localhost:8080/"
        },
        "id": "VdoJwapkkVCb",
        "outputId": "d4f30f8d-a640-42b0-d1c2-7571bf17a91b"
      },
      "execution_count": null,
      "outputs": [
        {
          "output_type": "execute_result",
          "data": {
            "text/plain": [
              "7363.574011458174"
            ]
          },
          "metadata": {},
          "execution_count": 7
        }
      ]
    },
    {
      "cell_type": "code",
      "source": [
        "np.std(age)"
      ],
      "metadata": {
        "colab": {
          "base_uri": "https://localhost:8080/"
        },
        "id": "lP5E1ZuFkggJ",
        "outputId": "931afe9d-5371-42f0-fc88-9d68a0eecaa1"
      },
      "execution_count": null,
      "outputs": [
        {
          "output_type": "execute_result",
          "data": {
            "text/plain": [
              "2.160246899469287"
            ]
          },
          "metadata": {},
          "execution_count": 8
        }
      ]
    },
    {
      "cell_type": "markdown",
      "source": [
        "print normalized and standardized values of salary"
      ],
      "metadata": {
        "id": "BLJcHjUAvJoy"
      }
    },
    {
      "cell_type": "code",
      "source": [
        "for x in sal:\n",
        "  n = (x - 52000) / (70000 - 52000)\n",
        "  s = (x - 60667) / 7364\n",
        "  print(\"for salary \", x, \" normalized value is \", n , \" standardized value is \", s)\n"
      ],
      "metadata": {
        "colab": {
          "base_uri": "https://localhost:8080/"
        },
        "id": "TYsZz9ePkl2f",
        "outputId": "0e7fe727-fa4d-451d-b079-ef97fcbbca47"
      },
      "execution_count": null,
      "outputs": [
        {
          "output_type": "stream",
          "name": "stdout",
          "text": [
            "for  52000  normalized value is  0.0  standardized value is  -1.1769418794133624\n",
            "for  60000  normalized value is  0.4444444444444444  standardized value is  -0.09057577403585008\n",
            "for  70000  normalized value is  1.0  standardized value is  1.2673818576860403\n"
          ]
        }
      ]
    },
    {
      "cell_type": "markdown",
      "source": [
        "print normalized and standardized values of age"
      ],
      "metadata": {
        "id": "JTAkUrdhvLVM"
      }
    },
    {
      "cell_type": "code",
      "source": [
        "for x in age:\n",
        "  n = (x - 40) / (45 - 40)\n",
        "  s = (x - 43) / 2.16\n",
        "  print(\"for age \", x, \" normalized value is \", n , \" standardized value is \", s)"
      ],
      "metadata": {
        "colab": {
          "base_uri": "https://localhost:8080/"
        },
        "id": "aMQkiLhvlUrg",
        "outputId": "9d0068db-5639-493d-af49-6177b9eca5fe"
      },
      "execution_count": null,
      "outputs": [
        {
          "output_type": "stream",
          "name": "stdout",
          "text": [
            "for age  40  normalized value is  0.0  standardized value is  -1.3888888888888888\n",
            "for age  44  normalized value is  0.8  standardized value is  0.4629629629629629\n",
            "for age  45  normalized value is  1.0  standardized value is  0.9259259259259258\n"
          ]
        }
      ]
    },
    {
      "cell_type": "code",
      "source": [],
      "metadata": {
        "id": "d1A7ZoVSljYu"
      },
      "execution_count": null,
      "outputs": []
    }
  ]
}