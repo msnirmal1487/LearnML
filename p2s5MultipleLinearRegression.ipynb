{
  "nbformat": 4,
  "nbformat_minor": 0,
  "metadata": {
    "colab": {
      "provenance": [],
      "authorship_tag": "ABX9TyNLCRmcGqBItsA6Lp6AOphq"
    },
    "kernelspec": {
      "name": "python3",
      "display_name": "Python 3"
    },
    "language_info": {
      "name": "python"
    }
  },
  "cells": [
    {
      "cell_type": "markdown",
      "source": [
        "# Multiple Linear Regression"
      ],
      "metadata": {
        "id": "Jc83V0dOr2di"
      }
    },
    {
      "cell_type": "markdown",
      "source": [
        "## Data Pre Processing"
      ],
      "metadata": {
        "id": "Rsz0SSd1r63i"
      }
    },
    {
      "cell_type": "code",
      "source": [
        "import numpy as np\n",
        "import matplotlib.pyplot as plt\n",
        "import pandas as pd"
      ],
      "metadata": {
        "id": "8h21uMi6rzIU"
      },
      "execution_count": 81,
      "outputs": []
    },
    {
      "cell_type": "code",
      "source": [
        "dataset = pd.read_csv('50_Startups.csv')\n",
        "X = dataset.iloc[:, :-1].values\n",
        "y = dataset.iloc[:, -1].values\n",
        "print(X)"
      ],
      "metadata": {
        "id": "OkkdC0XnrzIV",
        "colab": {
          "base_uri": "https://localhost:8080/"
        },
        "outputId": "3c7cce0f-8eed-4f86-f8d2-a3aebf8a80ee"
      },
      "execution_count": 82,
      "outputs": [
        {
          "output_type": "stream",
          "name": "stdout",
          "text": [
            "[[165349.2 136897.8 471784.1 'New York']\n",
            " [162597.7 151377.59 443898.53 'California']\n",
            " [153441.51 101145.55 407934.54 'Florida']\n",
            " [144372.41 118671.85 383199.62 'New York']\n",
            " [142107.34 91391.77 366168.42 'Florida']\n",
            " [131876.9 99814.71 362861.36 'New York']\n",
            " [134615.46 147198.87 127716.82 'California']\n",
            " [130298.13 145530.06 323876.68 'Florida']\n",
            " [120542.52 148718.95 311613.29 'New York']\n",
            " [123334.88 108679.17 304981.62 'California']\n",
            " [101913.08 110594.11 229160.95 'Florida']\n",
            " [100671.96 91790.61 249744.55 'California']\n",
            " [93863.75 127320.38 249839.44 'Florida']\n",
            " [91992.39 135495.07 252664.93 'California']\n",
            " [119943.24 156547.42 256512.92 'Florida']\n",
            " [114523.61 122616.84 261776.23 'New York']\n",
            " [78013.11 121597.55 264346.06 'California']\n",
            " [94657.16 145077.58 282574.31 'New York']\n",
            " [91749.16 114175.79 294919.57 'Florida']\n",
            " [86419.7 153514.11 0.0 'New York']\n",
            " [76253.86 113867.3 298664.47 'California']\n",
            " [78389.47 153773.43 299737.29 'New York']\n",
            " [73994.56 122782.75 303319.26 'Florida']\n",
            " [67532.53 105751.03 304768.73 'Florida']\n",
            " [77044.01 99281.34 140574.81 'New York']\n",
            " [64664.71 139553.16 137962.62 'California']\n",
            " [75328.87 144135.98 134050.07 'Florida']\n",
            " [72107.6 127864.55 353183.81 'New York']\n",
            " [66051.52 182645.56 118148.2 'Florida']\n",
            " [65605.48 153032.06 107138.38 'New York']\n",
            " [61994.48 115641.28 91131.24 'Florida']\n",
            " [61136.38 152701.92 88218.23 'New York']\n",
            " [63408.86 129219.61 46085.25 'California']\n",
            " [55493.95 103057.49 214634.81 'Florida']\n",
            " [46426.07 157693.92 210797.67 'California']\n",
            " [46014.02 85047.44 205517.64 'New York']\n",
            " [28663.76 127056.21 201126.82 'Florida']\n",
            " [44069.95 51283.14 197029.42 'California']\n",
            " [20229.59 65947.93 185265.1 'New York']\n",
            " [38558.51 82982.09 174999.3 'California']\n",
            " [28754.33 118546.05 172795.67 'California']\n",
            " [27892.92 84710.77 164470.71 'Florida']\n",
            " [23640.93 96189.63 148001.11 'California']\n",
            " [15505.73 127382.3 35534.17 'New York']\n",
            " [22177.74 154806.14 28334.72 'California']\n",
            " [1000.23 124153.04 1903.93 'New York']\n",
            " [1315.46 115816.21 297114.46 'Florida']\n",
            " [0.0 135426.92 0.0 'California']\n",
            " [542.05 51743.15 0.0 'New York']\n",
            " [0.0 116983.8 45173.06 'California']]\n"
          ]
        }
      ]
    },
    {
      "cell_type": "markdown",
      "source": [
        "Splitting (One Hot Encoding) the categorical data into dummy variables"
      ],
      "metadata": {
        "id": "Cr3PNfGbz7Ge"
      }
    },
    {
      "cell_type": "code",
      "source": [
        "from sklearn.compose import ColumnTransformer\n",
        "from sklearn.preprocessing import OneHotEncoder\n",
        "ct = ColumnTransformer(transformers=[('encoder', OneHotEncoder(), [3])], remainder='passthrough')\n",
        "X = np.array(ct.fit_transform(X))\n",
        "print(X)"
      ],
      "metadata": {
        "colab": {
          "base_uri": "https://localhost:8080/"
        },
        "id": "vG3erSxcz6QC",
        "outputId": "2c88d824-6e9c-45cf-8130-0a5382b47d70"
      },
      "execution_count": 83,
      "outputs": [
        {
          "output_type": "stream",
          "name": "stdout",
          "text": [
            "[[0.0 0.0 1.0 165349.2 136897.8 471784.1]\n",
            " [1.0 0.0 0.0 162597.7 151377.59 443898.53]\n",
            " [0.0 1.0 0.0 153441.51 101145.55 407934.54]\n",
            " [0.0 0.0 1.0 144372.41 118671.85 383199.62]\n",
            " [0.0 1.0 0.0 142107.34 91391.77 366168.42]\n",
            " [0.0 0.0 1.0 131876.9 99814.71 362861.36]\n",
            " [1.0 0.0 0.0 134615.46 147198.87 127716.82]\n",
            " [0.0 1.0 0.0 130298.13 145530.06 323876.68]\n",
            " [0.0 0.0 1.0 120542.52 148718.95 311613.29]\n",
            " [1.0 0.0 0.0 123334.88 108679.17 304981.62]\n",
            " [0.0 1.0 0.0 101913.08 110594.11 229160.95]\n",
            " [1.0 0.0 0.0 100671.96 91790.61 249744.55]\n",
            " [0.0 1.0 0.0 93863.75 127320.38 249839.44]\n",
            " [1.0 0.0 0.0 91992.39 135495.07 252664.93]\n",
            " [0.0 1.0 0.0 119943.24 156547.42 256512.92]\n",
            " [0.0 0.0 1.0 114523.61 122616.84 261776.23]\n",
            " [1.0 0.0 0.0 78013.11 121597.55 264346.06]\n",
            " [0.0 0.0 1.0 94657.16 145077.58 282574.31]\n",
            " [0.0 1.0 0.0 91749.16 114175.79 294919.57]\n",
            " [0.0 0.0 1.0 86419.7 153514.11 0.0]\n",
            " [1.0 0.0 0.0 76253.86 113867.3 298664.47]\n",
            " [0.0 0.0 1.0 78389.47 153773.43 299737.29]\n",
            " [0.0 1.0 0.0 73994.56 122782.75 303319.26]\n",
            " [0.0 1.0 0.0 67532.53 105751.03 304768.73]\n",
            " [0.0 0.0 1.0 77044.01 99281.34 140574.81]\n",
            " [1.0 0.0 0.0 64664.71 139553.16 137962.62]\n",
            " [0.0 1.0 0.0 75328.87 144135.98 134050.07]\n",
            " [0.0 0.0 1.0 72107.6 127864.55 353183.81]\n",
            " [0.0 1.0 0.0 66051.52 182645.56 118148.2]\n",
            " [0.0 0.0 1.0 65605.48 153032.06 107138.38]\n",
            " [0.0 1.0 0.0 61994.48 115641.28 91131.24]\n",
            " [0.0 0.0 1.0 61136.38 152701.92 88218.23]\n",
            " [1.0 0.0 0.0 63408.86 129219.61 46085.25]\n",
            " [0.0 1.0 0.0 55493.95 103057.49 214634.81]\n",
            " [1.0 0.0 0.0 46426.07 157693.92 210797.67]\n",
            " [0.0 0.0 1.0 46014.02 85047.44 205517.64]\n",
            " [0.0 1.0 0.0 28663.76 127056.21 201126.82]\n",
            " [1.0 0.0 0.0 44069.95 51283.14 197029.42]\n",
            " [0.0 0.0 1.0 20229.59 65947.93 185265.1]\n",
            " [1.0 0.0 0.0 38558.51 82982.09 174999.3]\n",
            " [1.0 0.0 0.0 28754.33 118546.05 172795.67]\n",
            " [0.0 1.0 0.0 27892.92 84710.77 164470.71]\n",
            " [1.0 0.0 0.0 23640.93 96189.63 148001.11]\n",
            " [0.0 0.0 1.0 15505.73 127382.3 35534.17]\n",
            " [1.0 0.0 0.0 22177.74 154806.14 28334.72]\n",
            " [0.0 0.0 1.0 1000.23 124153.04 1903.93]\n",
            " [0.0 1.0 0.0 1315.46 115816.21 297114.46]\n",
            " [1.0 0.0 0.0 0.0 135426.92 0.0]\n",
            " [0.0 0.0 1.0 542.05 51743.15 0.0]\n",
            " [1.0 0.0 0.0 0.0 116983.8 45173.06]]\n"
          ]
        }
      ]
    },
    {
      "cell_type": "code",
      "source": [
        "from sklearn.model_selection import train_test_split\n",
        "X_train, X_test, y_train, y_test = train_test_split(X, y, test_size = 0.2, random_state = 0)"
      ],
      "metadata": {
        "id": "wfN--GearzIV"
      },
      "execution_count": 84,
      "outputs": []
    },
    {
      "cell_type": "markdown",
      "source": [
        "## Training the Multiple Linear Regression on the training Set\n",
        "\n",
        "Dummy Variable trap handling : no need to skip the last dummy vecotor of each category set manually as the Multiple Linear regression class automatically avoids the dummy variable trap\n",
        "\n",
        "Choosing best features : we do not have to choose Statistically Significat features by applying \"all in / Backward Elimination / Forward Selection / Bi Directional Elimination / All possible Models\" as the class handles this."
      ],
      "metadata": {
        "id": "hOgIsc1L3IVJ"
      }
    },
    {
      "cell_type": "code",
      "source": [
        "from sklearn.linear_model import LinearRegression\n",
        "regressor = LinearRegression()\n",
        "regressor.fit(X_train, y_train)"
      ],
      "metadata": {
        "colab": {
          "base_uri": "https://localhost:8080/",
          "height": 75
        },
        "id": "oT4tii_53Qhh",
        "outputId": "46120a8e-35ef-44bd-f4e3-1d3823a12d91"
      },
      "execution_count": 85,
      "outputs": [
        {
          "output_type": "execute_result",
          "data": {
            "text/plain": [
              "LinearRegression()"
            ],
            "text/html": [
              "<style>#sk-container-id-6 {color: black;background-color: white;}#sk-container-id-6 pre{padding: 0;}#sk-container-id-6 div.sk-toggleable {background-color: white;}#sk-container-id-6 label.sk-toggleable__label {cursor: pointer;display: block;width: 100%;margin-bottom: 0;padding: 0.3em;box-sizing: border-box;text-align: center;}#sk-container-id-6 label.sk-toggleable__label-arrow:before {content: \"▸\";float: left;margin-right: 0.25em;color: #696969;}#sk-container-id-6 label.sk-toggleable__label-arrow:hover:before {color: black;}#sk-container-id-6 div.sk-estimator:hover label.sk-toggleable__label-arrow:before {color: black;}#sk-container-id-6 div.sk-toggleable__content {max-height: 0;max-width: 0;overflow: hidden;text-align: left;background-color: #f0f8ff;}#sk-container-id-6 div.sk-toggleable__content pre {margin: 0.2em;color: black;border-radius: 0.25em;background-color: #f0f8ff;}#sk-container-id-6 input.sk-toggleable__control:checked~div.sk-toggleable__content {max-height: 200px;max-width: 100%;overflow: auto;}#sk-container-id-6 input.sk-toggleable__control:checked~label.sk-toggleable__label-arrow:before {content: \"▾\";}#sk-container-id-6 div.sk-estimator input.sk-toggleable__control:checked~label.sk-toggleable__label {background-color: #d4ebff;}#sk-container-id-6 div.sk-label input.sk-toggleable__control:checked~label.sk-toggleable__label {background-color: #d4ebff;}#sk-container-id-6 input.sk-hidden--visually {border: 0;clip: rect(1px 1px 1px 1px);clip: rect(1px, 1px, 1px, 1px);height: 1px;margin: -1px;overflow: hidden;padding: 0;position: absolute;width: 1px;}#sk-container-id-6 div.sk-estimator {font-family: monospace;background-color: #f0f8ff;border: 1px dotted black;border-radius: 0.25em;box-sizing: border-box;margin-bottom: 0.5em;}#sk-container-id-6 div.sk-estimator:hover {background-color: #d4ebff;}#sk-container-id-6 div.sk-parallel-item::after {content: \"\";width: 100%;border-bottom: 1px solid gray;flex-grow: 1;}#sk-container-id-6 div.sk-label:hover label.sk-toggleable__label {background-color: #d4ebff;}#sk-container-id-6 div.sk-serial::before {content: \"\";position: absolute;border-left: 1px solid gray;box-sizing: border-box;top: 0;bottom: 0;left: 50%;z-index: 0;}#sk-container-id-6 div.sk-serial {display: flex;flex-direction: column;align-items: center;background-color: white;padding-right: 0.2em;padding-left: 0.2em;position: relative;}#sk-container-id-6 div.sk-item {position: relative;z-index: 1;}#sk-container-id-6 div.sk-parallel {display: flex;align-items: stretch;justify-content: center;background-color: white;position: relative;}#sk-container-id-6 div.sk-item::before, #sk-container-id-6 div.sk-parallel-item::before {content: \"\";position: absolute;border-left: 1px solid gray;box-sizing: border-box;top: 0;bottom: 0;left: 50%;z-index: -1;}#sk-container-id-6 div.sk-parallel-item {display: flex;flex-direction: column;z-index: 1;position: relative;background-color: white;}#sk-container-id-6 div.sk-parallel-item:first-child::after {align-self: flex-end;width: 50%;}#sk-container-id-6 div.sk-parallel-item:last-child::after {align-self: flex-start;width: 50%;}#sk-container-id-6 div.sk-parallel-item:only-child::after {width: 0;}#sk-container-id-6 div.sk-dashed-wrapped {border: 1px dashed gray;margin: 0 0.4em 0.5em 0.4em;box-sizing: border-box;padding-bottom: 0.4em;background-color: white;}#sk-container-id-6 div.sk-label label {font-family: monospace;font-weight: bold;display: inline-block;line-height: 1.2em;}#sk-container-id-6 div.sk-label-container {text-align: center;}#sk-container-id-6 div.sk-container {/* jupyter's `normalize.less` sets `[hidden] { display: none; }` but bootstrap.min.css set `[hidden] { display: none !important; }` so we also need the `!important` here to be able to override the default hidden behavior on the sphinx rendered scikit-learn.org. See: https://github.com/scikit-learn/scikit-learn/issues/21755 */display: inline-block !important;position: relative;}#sk-container-id-6 div.sk-text-repr-fallback {display: none;}</style><div id=\"sk-container-id-6\" class=\"sk-top-container\"><div class=\"sk-text-repr-fallback\"><pre>LinearRegression()</pre><b>In a Jupyter environment, please rerun this cell to show the HTML representation or trust the notebook. <br />On GitHub, the HTML representation is unable to render, please try loading this page with nbviewer.org.</b></div><div class=\"sk-container\" hidden><div class=\"sk-item\"><div class=\"sk-estimator sk-toggleable\"><input class=\"sk-toggleable__control sk-hidden--visually\" id=\"sk-estimator-id-6\" type=\"checkbox\" checked><label for=\"sk-estimator-id-6\" class=\"sk-toggleable__label sk-toggleable__label-arrow\">LinearRegression</label><div class=\"sk-toggleable__content\"><pre>LinearRegression()</pre></div></div></div></div></div>"
            ]
          },
          "metadata": {},
          "execution_count": 85
        }
      ]
    },
    {
      "cell_type": "markdown",
      "source": [
        "## Predicting Test set Results"
      ],
      "metadata": {
        "id": "5lojJwU16u0t"
      }
    },
    {
      "cell_type": "code",
      "source": [
        "y_predicted = regressor.predict(X_test)\n",
        "\n"
      ],
      "metadata": {
        "id": "o1hS4gQE6zcT"
      },
      "execution_count": 86,
      "outputs": []
    },
    {
      "cell_type": "code",
      "source": [
        "np.set_printoptions(precision=2)\n",
        "print(np.concatenate((y_test.reshape(len(y_test),1), y_predicted.reshape(len(y_predicted),1)), axis = 1))\n",
        "print((y_test - y_predicted).reshape(len(y_test), 1))\n"
      ],
      "metadata": {
        "colab": {
          "base_uri": "https://localhost:8080/"
        },
        "id": "F7K4uZiV8R7_",
        "outputId": "3c2bfece-1677-4015-869e-bd7859f6471b"
      },
      "execution_count": 87,
      "outputs": [
        {
          "output_type": "stream",
          "name": "stdout",
          "text": [
            "[[103282.38 103015.2 ]\n",
            " [144259.4  132582.28]\n",
            " [146121.95 132447.74]\n",
            " [ 77798.83  71976.1 ]\n",
            " [191050.39 178537.48]\n",
            " [105008.31 116161.24]\n",
            " [ 81229.06  67851.69]\n",
            " [ 97483.56  98791.73]\n",
            " [110352.25 113969.44]\n",
            " [166187.94 167921.07]]\n",
            "[[   267.18]\n",
            " [ 11677.12]\n",
            " [ 13674.21]\n",
            " [  5822.73]\n",
            " [ 12512.91]\n",
            " [-11152.93]\n",
            " [ 13377.37]\n",
            " [ -1308.17]\n",
            " [ -3617.19]\n",
            " [ -1733.13]]\n"
          ]
        }
      ]
    },
    {
      "cell_type": "markdown",
      "source": [
        "## Making a single Prediction (for example the profit of a startup with R&D Spend = 160000, Administration Spend = 130000, Marketing Spend = 300000 and State = 'California')"
      ],
      "metadata": {
        "id": "dat5dm--AKL0"
      }
    },
    {
      "cell_type": "code",
      "source": [
        "print(regressor.predict([[1,0,0,160000, 130000, 300000]]))"
      ],
      "metadata": {
        "colab": {
          "base_uri": "https://localhost:8080/"
        },
        "id": "vt43I3apAM_H",
        "outputId": "0a5b4fb5-d4fd-48e7-d874-4d4c6fff23f6"
      },
      "execution_count": 101,
      "outputs": [
        {
          "output_type": "stream",
          "name": "stdout",
          "text": [
            "[181566.92]\n"
          ]
        }
      ]
    },
    {
      "cell_type": "markdown",
      "source": [
        "## print final regression equation with values of co efficients"
      ],
      "metadata": {
        "id": "Jr-Z3zn5AsDe"
      }
    },
    {
      "cell_type": "code",
      "source": [
        "print(regressor.coef_)\n",
        "print(regressor.intercept_)\n"
      ],
      "metadata": {
        "colab": {
          "base_uri": "https://localhost:8080/"
        },
        "id": "lCSvbWMRAq5q",
        "outputId": "e3d2d59d-7ac6-444e-dd30-8cdcaf816513"
      },
      "execution_count": 102,
      "outputs": [
        {
          "output_type": "stream",
          "name": "stdout",
          "text": [
            "[ 8.66e+01 -8.73e+02  7.86e+02  7.73e-01  3.29e-02  3.66e-02]\n",
            "42467.52924853278\n"
          ]
        }
      ]
    },
    {
      "cell_type": "markdown",
      "source": [
        "## Backward Elimination (One approach to select only staistically Significant features)"
      ],
      "metadata": {
        "id": "S7Z5Sg74swA5"
      }
    },
    {
      "cell_type": "code",
      "source": [
        "import statsmodels.api as sm\n",
        "# y = b0 * x0 + b1 * x1 + b2 * x2 + ... + bn * xn\n",
        "#  in multiple linear equations x0 is assumed to be one\n",
        "# statsmodels library does not take into account the x0 =1 hence we are adding a column of ones\n",
        "\n",
        "X = np.append(arr=np.ones((len(X), 1)).astype(int), values= X, axis = 1)\n",
        "X\n",
        "\n",
        "\n"
      ],
      "metadata": {
        "colab": {
          "base_uri": "https://localhost:8080/"
        },
        "id": "j-VHMMOTs42Q",
        "outputId": "4dec034a-e454-48a3-a041-76dbabcde6ac"
      },
      "execution_count": 88,
      "outputs": [
        {
          "output_type": "execute_result",
          "data": {
            "text/plain": [
              "array([[1, 0.0, 0.0, 1.0, 165349.2, 136897.8, 471784.1],\n",
              "       [1, 1.0, 0.0, 0.0, 162597.7, 151377.59, 443898.53],\n",
              "       [1, 0.0, 1.0, 0.0, 153441.51, 101145.55, 407934.54],\n",
              "       [1, 0.0, 0.0, 1.0, 144372.41, 118671.85, 383199.62],\n",
              "       [1, 0.0, 1.0, 0.0, 142107.34, 91391.77, 366168.42],\n",
              "       [1, 0.0, 0.0, 1.0, 131876.9, 99814.71, 362861.36],\n",
              "       [1, 1.0, 0.0, 0.0, 134615.46, 147198.87, 127716.82],\n",
              "       [1, 0.0, 1.0, 0.0, 130298.13, 145530.06, 323876.68],\n",
              "       [1, 0.0, 0.0, 1.0, 120542.52, 148718.95, 311613.29],\n",
              "       [1, 1.0, 0.0, 0.0, 123334.88, 108679.17, 304981.62],\n",
              "       [1, 0.0, 1.0, 0.0, 101913.08, 110594.11, 229160.95],\n",
              "       [1, 1.0, 0.0, 0.0, 100671.96, 91790.61, 249744.55],\n",
              "       [1, 0.0, 1.0, 0.0, 93863.75, 127320.38, 249839.44],\n",
              "       [1, 1.0, 0.0, 0.0, 91992.39, 135495.07, 252664.93],\n",
              "       [1, 0.0, 1.0, 0.0, 119943.24, 156547.42, 256512.92],\n",
              "       [1, 0.0, 0.0, 1.0, 114523.61, 122616.84, 261776.23],\n",
              "       [1, 1.0, 0.0, 0.0, 78013.11, 121597.55, 264346.06],\n",
              "       [1, 0.0, 0.0, 1.0, 94657.16, 145077.58, 282574.31],\n",
              "       [1, 0.0, 1.0, 0.0, 91749.16, 114175.79, 294919.57],\n",
              "       [1, 0.0, 0.0, 1.0, 86419.7, 153514.11, 0.0],\n",
              "       [1, 1.0, 0.0, 0.0, 76253.86, 113867.3, 298664.47],\n",
              "       [1, 0.0, 0.0, 1.0, 78389.47, 153773.43, 299737.29],\n",
              "       [1, 0.0, 1.0, 0.0, 73994.56, 122782.75, 303319.26],\n",
              "       [1, 0.0, 1.0, 0.0, 67532.53, 105751.03, 304768.73],\n",
              "       [1, 0.0, 0.0, 1.0, 77044.01, 99281.34, 140574.81],\n",
              "       [1, 1.0, 0.0, 0.0, 64664.71, 139553.16, 137962.62],\n",
              "       [1, 0.0, 1.0, 0.0, 75328.87, 144135.98, 134050.07],\n",
              "       [1, 0.0, 0.0, 1.0, 72107.6, 127864.55, 353183.81],\n",
              "       [1, 0.0, 1.0, 0.0, 66051.52, 182645.56, 118148.2],\n",
              "       [1, 0.0, 0.0, 1.0, 65605.48, 153032.06, 107138.38],\n",
              "       [1, 0.0, 1.0, 0.0, 61994.48, 115641.28, 91131.24],\n",
              "       [1, 0.0, 0.0, 1.0, 61136.38, 152701.92, 88218.23],\n",
              "       [1, 1.0, 0.0, 0.0, 63408.86, 129219.61, 46085.25],\n",
              "       [1, 0.0, 1.0, 0.0, 55493.95, 103057.49, 214634.81],\n",
              "       [1, 1.0, 0.0, 0.0, 46426.07, 157693.92, 210797.67],\n",
              "       [1, 0.0, 0.0, 1.0, 46014.02, 85047.44, 205517.64],\n",
              "       [1, 0.0, 1.0, 0.0, 28663.76, 127056.21, 201126.82],\n",
              "       [1, 1.0, 0.0, 0.0, 44069.95, 51283.14, 197029.42],\n",
              "       [1, 0.0, 0.0, 1.0, 20229.59, 65947.93, 185265.1],\n",
              "       [1, 1.0, 0.0, 0.0, 38558.51, 82982.09, 174999.3],\n",
              "       [1, 1.0, 0.0, 0.0, 28754.33, 118546.05, 172795.67],\n",
              "       [1, 0.0, 1.0, 0.0, 27892.92, 84710.77, 164470.71],\n",
              "       [1, 1.0, 0.0, 0.0, 23640.93, 96189.63, 148001.11],\n",
              "       [1, 0.0, 0.0, 1.0, 15505.73, 127382.3, 35534.17],\n",
              "       [1, 1.0, 0.0, 0.0, 22177.74, 154806.14, 28334.72],\n",
              "       [1, 0.0, 0.0, 1.0, 1000.23, 124153.04, 1903.93],\n",
              "       [1, 0.0, 1.0, 0.0, 1315.46, 115816.21, 297114.46],\n",
              "       [1, 1.0, 0.0, 0.0, 0.0, 135426.92, 0.0],\n",
              "       [1, 0.0, 0.0, 1.0, 542.05, 51743.15, 0.0],\n",
              "       [1, 1.0, 0.0, 0.0, 0.0, 116983.8, 45173.06]], dtype=object)"
            ]
          },
          "metadata": {},
          "execution_count": 88
        }
      ]
    },
    {
      "cell_type": "code",
      "source": [
        "# Remove one dummy variable to prevent Dummy Trap\n",
        "X=np.append(X[:,0:1], X[:,2:], axis=1)\n",
        "# or\n",
        "# X = X[:,[0,2,3,4,5,6]]\n",
        "X"
      ],
      "metadata": {
        "colab": {
          "base_uri": "https://localhost:8080/"
        },
        "id": "ph-xOl5xv9gR",
        "outputId": "959087e8-6c7b-43d2-818a-544caa790ea5"
      },
      "execution_count": 89,
      "outputs": [
        {
          "output_type": "execute_result",
          "data": {
            "text/plain": [
              "array([[1, 0.0, 1.0, 165349.2, 136897.8, 471784.1],\n",
              "       [1, 0.0, 0.0, 162597.7, 151377.59, 443898.53],\n",
              "       [1, 1.0, 0.0, 153441.51, 101145.55, 407934.54],\n",
              "       [1, 0.0, 1.0, 144372.41, 118671.85, 383199.62],\n",
              "       [1, 1.0, 0.0, 142107.34, 91391.77, 366168.42],\n",
              "       [1, 0.0, 1.0, 131876.9, 99814.71, 362861.36],\n",
              "       [1, 0.0, 0.0, 134615.46, 147198.87, 127716.82],\n",
              "       [1, 1.0, 0.0, 130298.13, 145530.06, 323876.68],\n",
              "       [1, 0.0, 1.0, 120542.52, 148718.95, 311613.29],\n",
              "       [1, 0.0, 0.0, 123334.88, 108679.17, 304981.62],\n",
              "       [1, 1.0, 0.0, 101913.08, 110594.11, 229160.95],\n",
              "       [1, 0.0, 0.0, 100671.96, 91790.61, 249744.55],\n",
              "       [1, 1.0, 0.0, 93863.75, 127320.38, 249839.44],\n",
              "       [1, 0.0, 0.0, 91992.39, 135495.07, 252664.93],\n",
              "       [1, 1.0, 0.0, 119943.24, 156547.42, 256512.92],\n",
              "       [1, 0.0, 1.0, 114523.61, 122616.84, 261776.23],\n",
              "       [1, 0.0, 0.0, 78013.11, 121597.55, 264346.06],\n",
              "       [1, 0.0, 1.0, 94657.16, 145077.58, 282574.31],\n",
              "       [1, 1.0, 0.0, 91749.16, 114175.79, 294919.57],\n",
              "       [1, 0.0, 1.0, 86419.7, 153514.11, 0.0],\n",
              "       [1, 0.0, 0.0, 76253.86, 113867.3, 298664.47],\n",
              "       [1, 0.0, 1.0, 78389.47, 153773.43, 299737.29],\n",
              "       [1, 1.0, 0.0, 73994.56, 122782.75, 303319.26],\n",
              "       [1, 1.0, 0.0, 67532.53, 105751.03, 304768.73],\n",
              "       [1, 0.0, 1.0, 77044.01, 99281.34, 140574.81],\n",
              "       [1, 0.0, 0.0, 64664.71, 139553.16, 137962.62],\n",
              "       [1, 1.0, 0.0, 75328.87, 144135.98, 134050.07],\n",
              "       [1, 0.0, 1.0, 72107.6, 127864.55, 353183.81],\n",
              "       [1, 1.0, 0.0, 66051.52, 182645.56, 118148.2],\n",
              "       [1, 0.0, 1.0, 65605.48, 153032.06, 107138.38],\n",
              "       [1, 1.0, 0.0, 61994.48, 115641.28, 91131.24],\n",
              "       [1, 0.0, 1.0, 61136.38, 152701.92, 88218.23],\n",
              "       [1, 0.0, 0.0, 63408.86, 129219.61, 46085.25],\n",
              "       [1, 1.0, 0.0, 55493.95, 103057.49, 214634.81],\n",
              "       [1, 0.0, 0.0, 46426.07, 157693.92, 210797.67],\n",
              "       [1, 0.0, 1.0, 46014.02, 85047.44, 205517.64],\n",
              "       [1, 1.0, 0.0, 28663.76, 127056.21, 201126.82],\n",
              "       [1, 0.0, 0.0, 44069.95, 51283.14, 197029.42],\n",
              "       [1, 0.0, 1.0, 20229.59, 65947.93, 185265.1],\n",
              "       [1, 0.0, 0.0, 38558.51, 82982.09, 174999.3],\n",
              "       [1, 0.0, 0.0, 28754.33, 118546.05, 172795.67],\n",
              "       [1, 1.0, 0.0, 27892.92, 84710.77, 164470.71],\n",
              "       [1, 0.0, 0.0, 23640.93, 96189.63, 148001.11],\n",
              "       [1, 0.0, 1.0, 15505.73, 127382.3, 35534.17],\n",
              "       [1, 0.0, 0.0, 22177.74, 154806.14, 28334.72],\n",
              "       [1, 0.0, 1.0, 1000.23, 124153.04, 1903.93],\n",
              "       [1, 1.0, 0.0, 1315.46, 115816.21, 297114.46],\n",
              "       [1, 0.0, 0.0, 0.0, 135426.92, 0.0],\n",
              "       [1, 0.0, 1.0, 542.05, 51743.15, 0.0],\n",
              "       [1, 0.0, 0.0, 0.0, 116983.8, 45173.06]], dtype=object)"
            ]
          },
          "metadata": {},
          "execution_count": 89
        }
      ]
    },
    {
      "cell_type": "code",
      "source": [
        "# 0:constant, 1:dummy 1, 2:dummy2, 3:R&D Spend, 4:Admin Spend, 5:Marketing Spend\n",
        "X_opt = X[:,[0,1,2,3,4,5]]\n",
        "X_opt = X_opt.astype(np.float64)\n",
        "X_opt\n"
      ],
      "metadata": {
        "colab": {
          "base_uri": "https://localhost:8080/"
        },
        "id": "WZ2766r2wzmU",
        "outputId": "397b8eb1-8834-48fc-b3f3-6f7659808140"
      },
      "execution_count": 91,
      "outputs": [
        {
          "output_type": "execute_result",
          "data": {
            "text/plain": [
              "array([[1.00e+00, 0.00e+00, 1.00e+00, 1.65e+05, 1.37e+05, 4.72e+05],\n",
              "       [1.00e+00, 0.00e+00, 0.00e+00, 1.63e+05, 1.51e+05, 4.44e+05],\n",
              "       [1.00e+00, 1.00e+00, 0.00e+00, 1.53e+05, 1.01e+05, 4.08e+05],\n",
              "       [1.00e+00, 0.00e+00, 1.00e+00, 1.44e+05, 1.19e+05, 3.83e+05],\n",
              "       [1.00e+00, 1.00e+00, 0.00e+00, 1.42e+05, 9.14e+04, 3.66e+05],\n",
              "       [1.00e+00, 0.00e+00, 1.00e+00, 1.32e+05, 9.98e+04, 3.63e+05],\n",
              "       [1.00e+00, 0.00e+00, 0.00e+00, 1.35e+05, 1.47e+05, 1.28e+05],\n",
              "       [1.00e+00, 1.00e+00, 0.00e+00, 1.30e+05, 1.46e+05, 3.24e+05],\n",
              "       [1.00e+00, 0.00e+00, 1.00e+00, 1.21e+05, 1.49e+05, 3.12e+05],\n",
              "       [1.00e+00, 0.00e+00, 0.00e+00, 1.23e+05, 1.09e+05, 3.05e+05],\n",
              "       [1.00e+00, 1.00e+00, 0.00e+00, 1.02e+05, 1.11e+05, 2.29e+05],\n",
              "       [1.00e+00, 0.00e+00, 0.00e+00, 1.01e+05, 9.18e+04, 2.50e+05],\n",
              "       [1.00e+00, 1.00e+00, 0.00e+00, 9.39e+04, 1.27e+05, 2.50e+05],\n",
              "       [1.00e+00, 0.00e+00, 0.00e+00, 9.20e+04, 1.35e+05, 2.53e+05],\n",
              "       [1.00e+00, 1.00e+00, 0.00e+00, 1.20e+05, 1.57e+05, 2.57e+05],\n",
              "       [1.00e+00, 0.00e+00, 1.00e+00, 1.15e+05, 1.23e+05, 2.62e+05],\n",
              "       [1.00e+00, 0.00e+00, 0.00e+00, 7.80e+04, 1.22e+05, 2.64e+05],\n",
              "       [1.00e+00, 0.00e+00, 1.00e+00, 9.47e+04, 1.45e+05, 2.83e+05],\n",
              "       [1.00e+00, 1.00e+00, 0.00e+00, 9.17e+04, 1.14e+05, 2.95e+05],\n",
              "       [1.00e+00, 0.00e+00, 1.00e+00, 8.64e+04, 1.54e+05, 0.00e+00],\n",
              "       [1.00e+00, 0.00e+00, 0.00e+00, 7.63e+04, 1.14e+05, 2.99e+05],\n",
              "       [1.00e+00, 0.00e+00, 1.00e+00, 7.84e+04, 1.54e+05, 3.00e+05],\n",
              "       [1.00e+00, 1.00e+00, 0.00e+00, 7.40e+04, 1.23e+05, 3.03e+05],\n",
              "       [1.00e+00, 1.00e+00, 0.00e+00, 6.75e+04, 1.06e+05, 3.05e+05],\n",
              "       [1.00e+00, 0.00e+00, 1.00e+00, 7.70e+04, 9.93e+04, 1.41e+05],\n",
              "       [1.00e+00, 0.00e+00, 0.00e+00, 6.47e+04, 1.40e+05, 1.38e+05],\n",
              "       [1.00e+00, 1.00e+00, 0.00e+00, 7.53e+04, 1.44e+05, 1.34e+05],\n",
              "       [1.00e+00, 0.00e+00, 1.00e+00, 7.21e+04, 1.28e+05, 3.53e+05],\n",
              "       [1.00e+00, 1.00e+00, 0.00e+00, 6.61e+04, 1.83e+05, 1.18e+05],\n",
              "       [1.00e+00, 0.00e+00, 1.00e+00, 6.56e+04, 1.53e+05, 1.07e+05],\n",
              "       [1.00e+00, 1.00e+00, 0.00e+00, 6.20e+04, 1.16e+05, 9.11e+04],\n",
              "       [1.00e+00, 0.00e+00, 1.00e+00, 6.11e+04, 1.53e+05, 8.82e+04],\n",
              "       [1.00e+00, 0.00e+00, 0.00e+00, 6.34e+04, 1.29e+05, 4.61e+04],\n",
              "       [1.00e+00, 1.00e+00, 0.00e+00, 5.55e+04, 1.03e+05, 2.15e+05],\n",
              "       [1.00e+00, 0.00e+00, 0.00e+00, 4.64e+04, 1.58e+05, 2.11e+05],\n",
              "       [1.00e+00, 0.00e+00, 1.00e+00, 4.60e+04, 8.50e+04, 2.06e+05],\n",
              "       [1.00e+00, 1.00e+00, 0.00e+00, 2.87e+04, 1.27e+05, 2.01e+05],\n",
              "       [1.00e+00, 0.00e+00, 0.00e+00, 4.41e+04, 5.13e+04, 1.97e+05],\n",
              "       [1.00e+00, 0.00e+00, 1.00e+00, 2.02e+04, 6.59e+04, 1.85e+05],\n",
              "       [1.00e+00, 0.00e+00, 0.00e+00, 3.86e+04, 8.30e+04, 1.75e+05],\n",
              "       [1.00e+00, 0.00e+00, 0.00e+00, 2.88e+04, 1.19e+05, 1.73e+05],\n",
              "       [1.00e+00, 1.00e+00, 0.00e+00, 2.79e+04, 8.47e+04, 1.64e+05],\n",
              "       [1.00e+00, 0.00e+00, 0.00e+00, 2.36e+04, 9.62e+04, 1.48e+05],\n",
              "       [1.00e+00, 0.00e+00, 1.00e+00, 1.55e+04, 1.27e+05, 3.55e+04],\n",
              "       [1.00e+00, 0.00e+00, 0.00e+00, 2.22e+04, 1.55e+05, 2.83e+04],\n",
              "       [1.00e+00, 0.00e+00, 1.00e+00, 1.00e+03, 1.24e+05, 1.90e+03],\n",
              "       [1.00e+00, 1.00e+00, 0.00e+00, 1.32e+03, 1.16e+05, 2.97e+05],\n",
              "       [1.00e+00, 0.00e+00, 0.00e+00, 0.00e+00, 1.35e+05, 0.00e+00],\n",
              "       [1.00e+00, 0.00e+00, 1.00e+00, 5.42e+02, 5.17e+04, 0.00e+00],\n",
              "       [1.00e+00, 0.00e+00, 0.00e+00, 0.00e+00, 1.17e+05, 4.52e+04]])"
            ]
          },
          "metadata": {},
          "execution_count": 91
        }
      ]
    },
    {
      "cell_type": "code",
      "source": [
        "regressor_OLS = sm.OLS(endog = y, exog = X_opt).fit() # OLS - Ordinary Least Square\n",
        "regressor_OLS.summary()\n",
        "# x1:Dummy1, x2:Dummy2, x3:R&d, x4:Admin, x5:marketing"
      ],
      "metadata": {
        "colab": {
          "base_uri": "https://localhost:8080/",
          "height": 572
        },
        "id": "ws6afhcGz-Ur",
        "outputId": "da6e6cde-f523-476a-e40a-66cba021ebc2"
      },
      "execution_count": 92,
      "outputs": [
        {
          "output_type": "execute_result",
          "data": {
            "text/plain": [
              "<class 'statsmodels.iolib.summary.Summary'>\n",
              "\"\"\"\n",
              "                            OLS Regression Results                            \n",
              "==============================================================================\n",
              "Dep. Variable:                      y   R-squared:                       0.951\n",
              "Model:                            OLS   Adj. R-squared:                  0.945\n",
              "Method:                 Least Squares   F-statistic:                     169.9\n",
              "Date:                Thu, 29 Jun 2023   Prob (F-statistic):           1.34e-27\n",
              "Time:                        16:04:37   Log-Likelihood:                -525.38\n",
              "No. Observations:                  50   AIC:                             1063.\n",
              "Df Residuals:                      44   BIC:                             1074.\n",
              "Df Model:                           5                                         \n",
              "Covariance Type:            nonrobust                                         \n",
              "==============================================================================\n",
              "                 coef    std err          t      P>|t|      [0.025      0.975]\n",
              "------------------------------------------------------------------------------\n",
              "const       5.013e+04   6884.820      7.281      0.000    3.62e+04     6.4e+04\n",
              "x1           198.7888   3371.007      0.059      0.953   -6595.030    6992.607\n",
              "x2           -41.8870   3256.039     -0.013      0.990   -6604.003    6520.229\n",
              "x3             0.8060      0.046     17.369      0.000       0.712       0.900\n",
              "x4            -0.0270      0.052     -0.517      0.608      -0.132       0.078\n",
              "x5             0.0270      0.017      1.574      0.123      -0.008       0.062\n",
              "==============================================================================\n",
              "Omnibus:                       14.782   Durbin-Watson:                   1.283\n",
              "Prob(Omnibus):                  0.001   Jarque-Bera (JB):               21.266\n",
              "Skew:                          -0.948   Prob(JB):                     2.41e-05\n",
              "Kurtosis:                       5.572   Cond. No.                     1.45e+06\n",
              "==============================================================================\n",
              "\n",
              "Notes:\n",
              "[1] Standard Errors assume that the covariance matrix of the errors is correctly specified.\n",
              "[2] The condition number is large, 1.45e+06. This might indicate that there are\n",
              "strong multicollinearity or other numerical problems.\n",
              "\"\"\""
            ],
            "text/html": [
              "<table class=\"simpletable\">\n",
              "<caption>OLS Regression Results</caption>\n",
              "<tr>\n",
              "  <th>Dep. Variable:</th>            <td>y</td>        <th>  R-squared:         </th> <td>   0.951</td>\n",
              "</tr>\n",
              "<tr>\n",
              "  <th>Model:</th>                   <td>OLS</td>       <th>  Adj. R-squared:    </th> <td>   0.945</td>\n",
              "</tr>\n",
              "<tr>\n",
              "  <th>Method:</th>             <td>Least Squares</td>  <th>  F-statistic:       </th> <td>   169.9</td>\n",
              "</tr>\n",
              "<tr>\n",
              "  <th>Date:</th>             <td>Thu, 29 Jun 2023</td> <th>  Prob (F-statistic):</th> <td>1.34e-27</td>\n",
              "</tr>\n",
              "<tr>\n",
              "  <th>Time:</th>                 <td>16:04:37</td>     <th>  Log-Likelihood:    </th> <td> -525.38</td>\n",
              "</tr>\n",
              "<tr>\n",
              "  <th>No. Observations:</th>      <td>    50</td>      <th>  AIC:               </th> <td>   1063.</td>\n",
              "</tr>\n",
              "<tr>\n",
              "  <th>Df Residuals:</th>          <td>    44</td>      <th>  BIC:               </th> <td>   1074.</td>\n",
              "</tr>\n",
              "<tr>\n",
              "  <th>Df Model:</th>              <td>     5</td>      <th>                     </th>     <td> </td>   \n",
              "</tr>\n",
              "<tr>\n",
              "  <th>Covariance Type:</th>      <td>nonrobust</td>    <th>                     </th>     <td> </td>   \n",
              "</tr>\n",
              "</table>\n",
              "<table class=\"simpletable\">\n",
              "<tr>\n",
              "    <td></td>       <th>coef</th>     <th>std err</th>      <th>t</th>      <th>P>|t|</th>  <th>[0.025</th>    <th>0.975]</th>  \n",
              "</tr>\n",
              "<tr>\n",
              "  <th>const</th> <td> 5.013e+04</td> <td> 6884.820</td> <td>    7.281</td> <td> 0.000</td> <td> 3.62e+04</td> <td>  6.4e+04</td>\n",
              "</tr>\n",
              "<tr>\n",
              "  <th>x1</th>    <td>  198.7888</td> <td> 3371.007</td> <td>    0.059</td> <td> 0.953</td> <td>-6595.030</td> <td> 6992.607</td>\n",
              "</tr>\n",
              "<tr>\n",
              "  <th>x2</th>    <td>  -41.8870</td> <td> 3256.039</td> <td>   -0.013</td> <td> 0.990</td> <td>-6604.003</td> <td> 6520.229</td>\n",
              "</tr>\n",
              "<tr>\n",
              "  <th>x3</th>    <td>    0.8060</td> <td>    0.046</td> <td>   17.369</td> <td> 0.000</td> <td>    0.712</td> <td>    0.900</td>\n",
              "</tr>\n",
              "<tr>\n",
              "  <th>x4</th>    <td>   -0.0270</td> <td>    0.052</td> <td>   -0.517</td> <td> 0.608</td> <td>   -0.132</td> <td>    0.078</td>\n",
              "</tr>\n",
              "<tr>\n",
              "  <th>x5</th>    <td>    0.0270</td> <td>    0.017</td> <td>    1.574</td> <td> 0.123</td> <td>   -0.008</td> <td>    0.062</td>\n",
              "</tr>\n",
              "</table>\n",
              "<table class=\"simpletable\">\n",
              "<tr>\n",
              "  <th>Omnibus:</th>       <td>14.782</td> <th>  Durbin-Watson:     </th> <td>   1.283</td>\n",
              "</tr>\n",
              "<tr>\n",
              "  <th>Prob(Omnibus):</th> <td> 0.001</td> <th>  Jarque-Bera (JB):  </th> <td>  21.266</td>\n",
              "</tr>\n",
              "<tr>\n",
              "  <th>Skew:</th>          <td>-0.948</td> <th>  Prob(JB):          </th> <td>2.41e-05</td>\n",
              "</tr>\n",
              "<tr>\n",
              "  <th>Kurtosis:</th>      <td> 5.572</td> <th>  Cond. No.          </th> <td>1.45e+06</td>\n",
              "</tr>\n",
              "</table><br/><br/>Notes:<br/>[1] Standard Errors assume that the covariance matrix of the errors is correctly specified.<br/>[2] The condition number is large, 1.45e+06. This might indicate that there are<br/>strong multicollinearity or other numerical problems."
            ]
          },
          "metadata": {},
          "execution_count": 92
        }
      ]
    },
    {
      "cell_type": "code",
      "source": [
        "# Removing the predictor (colunm index 2: Dummy 2) with highest Significance level (SL)\n",
        "# as the pvalue  (L>|t|) is greater than the decided SL of 0.05\n",
        "# 0:constant, 1:dummy 1, 2:dummy2, 3:R&D Spend, 4:Admin Spend, 5:Marketing Spend\n",
        "X_opt = X[:,[0,1,3,4,5]]\n",
        "X_opt = X_opt.astype(np.float64)\n",
        "X_opt"
      ],
      "metadata": {
        "colab": {
          "base_uri": "https://localhost:8080/"
        },
        "id": "M46ifSTg1fHH",
        "outputId": "fb80266f-cbba-4471-afba-bc2f7303bd00"
      },
      "execution_count": 93,
      "outputs": [
        {
          "output_type": "execute_result",
          "data": {
            "text/plain": [
              "array([[1.00e+00, 0.00e+00, 1.65e+05, 1.37e+05, 4.72e+05],\n",
              "       [1.00e+00, 0.00e+00, 1.63e+05, 1.51e+05, 4.44e+05],\n",
              "       [1.00e+00, 1.00e+00, 1.53e+05, 1.01e+05, 4.08e+05],\n",
              "       [1.00e+00, 0.00e+00, 1.44e+05, 1.19e+05, 3.83e+05],\n",
              "       [1.00e+00, 1.00e+00, 1.42e+05, 9.14e+04, 3.66e+05],\n",
              "       [1.00e+00, 0.00e+00, 1.32e+05, 9.98e+04, 3.63e+05],\n",
              "       [1.00e+00, 0.00e+00, 1.35e+05, 1.47e+05, 1.28e+05],\n",
              "       [1.00e+00, 1.00e+00, 1.30e+05, 1.46e+05, 3.24e+05],\n",
              "       [1.00e+00, 0.00e+00, 1.21e+05, 1.49e+05, 3.12e+05],\n",
              "       [1.00e+00, 0.00e+00, 1.23e+05, 1.09e+05, 3.05e+05],\n",
              "       [1.00e+00, 1.00e+00, 1.02e+05, 1.11e+05, 2.29e+05],\n",
              "       [1.00e+00, 0.00e+00, 1.01e+05, 9.18e+04, 2.50e+05],\n",
              "       [1.00e+00, 1.00e+00, 9.39e+04, 1.27e+05, 2.50e+05],\n",
              "       [1.00e+00, 0.00e+00, 9.20e+04, 1.35e+05, 2.53e+05],\n",
              "       [1.00e+00, 1.00e+00, 1.20e+05, 1.57e+05, 2.57e+05],\n",
              "       [1.00e+00, 0.00e+00, 1.15e+05, 1.23e+05, 2.62e+05],\n",
              "       [1.00e+00, 0.00e+00, 7.80e+04, 1.22e+05, 2.64e+05],\n",
              "       [1.00e+00, 0.00e+00, 9.47e+04, 1.45e+05, 2.83e+05],\n",
              "       [1.00e+00, 1.00e+00, 9.17e+04, 1.14e+05, 2.95e+05],\n",
              "       [1.00e+00, 0.00e+00, 8.64e+04, 1.54e+05, 0.00e+00],\n",
              "       [1.00e+00, 0.00e+00, 7.63e+04, 1.14e+05, 2.99e+05],\n",
              "       [1.00e+00, 0.00e+00, 7.84e+04, 1.54e+05, 3.00e+05],\n",
              "       [1.00e+00, 1.00e+00, 7.40e+04, 1.23e+05, 3.03e+05],\n",
              "       [1.00e+00, 1.00e+00, 6.75e+04, 1.06e+05, 3.05e+05],\n",
              "       [1.00e+00, 0.00e+00, 7.70e+04, 9.93e+04, 1.41e+05],\n",
              "       [1.00e+00, 0.00e+00, 6.47e+04, 1.40e+05, 1.38e+05],\n",
              "       [1.00e+00, 1.00e+00, 7.53e+04, 1.44e+05, 1.34e+05],\n",
              "       [1.00e+00, 0.00e+00, 7.21e+04, 1.28e+05, 3.53e+05],\n",
              "       [1.00e+00, 1.00e+00, 6.61e+04, 1.83e+05, 1.18e+05],\n",
              "       [1.00e+00, 0.00e+00, 6.56e+04, 1.53e+05, 1.07e+05],\n",
              "       [1.00e+00, 1.00e+00, 6.20e+04, 1.16e+05, 9.11e+04],\n",
              "       [1.00e+00, 0.00e+00, 6.11e+04, 1.53e+05, 8.82e+04],\n",
              "       [1.00e+00, 0.00e+00, 6.34e+04, 1.29e+05, 4.61e+04],\n",
              "       [1.00e+00, 1.00e+00, 5.55e+04, 1.03e+05, 2.15e+05],\n",
              "       [1.00e+00, 0.00e+00, 4.64e+04, 1.58e+05, 2.11e+05],\n",
              "       [1.00e+00, 0.00e+00, 4.60e+04, 8.50e+04, 2.06e+05],\n",
              "       [1.00e+00, 1.00e+00, 2.87e+04, 1.27e+05, 2.01e+05],\n",
              "       [1.00e+00, 0.00e+00, 4.41e+04, 5.13e+04, 1.97e+05],\n",
              "       [1.00e+00, 0.00e+00, 2.02e+04, 6.59e+04, 1.85e+05],\n",
              "       [1.00e+00, 0.00e+00, 3.86e+04, 8.30e+04, 1.75e+05],\n",
              "       [1.00e+00, 0.00e+00, 2.88e+04, 1.19e+05, 1.73e+05],\n",
              "       [1.00e+00, 1.00e+00, 2.79e+04, 8.47e+04, 1.64e+05],\n",
              "       [1.00e+00, 0.00e+00, 2.36e+04, 9.62e+04, 1.48e+05],\n",
              "       [1.00e+00, 0.00e+00, 1.55e+04, 1.27e+05, 3.55e+04],\n",
              "       [1.00e+00, 0.00e+00, 2.22e+04, 1.55e+05, 2.83e+04],\n",
              "       [1.00e+00, 0.00e+00, 1.00e+03, 1.24e+05, 1.90e+03],\n",
              "       [1.00e+00, 1.00e+00, 1.32e+03, 1.16e+05, 2.97e+05],\n",
              "       [1.00e+00, 0.00e+00, 0.00e+00, 1.35e+05, 0.00e+00],\n",
              "       [1.00e+00, 0.00e+00, 5.42e+02, 5.17e+04, 0.00e+00],\n",
              "       [1.00e+00, 0.00e+00, 0.00e+00, 1.17e+05, 4.52e+04]])"
            ]
          },
          "metadata": {},
          "execution_count": 93
        }
      ]
    },
    {
      "cell_type": "code",
      "source": [
        "# Fit the regressor model to the new optimized predictors\n",
        "regressor_OLS = sm.OLS(endog = y, exog = X_opt).fit() # OLS - Ordinary Least Square\n",
        "regressor_OLS.summary()\n",
        "# x1:Dummy1, x2:R&d, x3:Admin, x4:marketing"
      ],
      "metadata": {
        "colab": {
          "base_uri": "https://localhost:8080/",
          "height": 550
        },
        "id": "cyWsEKwH2oP0",
        "outputId": "c3c887d2-f869-4477-9e77-77c460b80eb7"
      },
      "execution_count": 94,
      "outputs": [
        {
          "output_type": "execute_result",
          "data": {
            "text/plain": [
              "<class 'statsmodels.iolib.summary.Summary'>\n",
              "\"\"\"\n",
              "                            OLS Regression Results                            \n",
              "==============================================================================\n",
              "Dep. Variable:                      y   R-squared:                       0.951\n",
              "Model:                            OLS   Adj. R-squared:                  0.946\n",
              "Method:                 Least Squares   F-statistic:                     217.2\n",
              "Date:                Thu, 29 Jun 2023   Prob (F-statistic):           8.49e-29\n",
              "Time:                        16:07:50   Log-Likelihood:                -525.38\n",
              "No. Observations:                  50   AIC:                             1061.\n",
              "Df Residuals:                      45   BIC:                             1070.\n",
              "Df Model:                           4                                         \n",
              "Covariance Type:            nonrobust                                         \n",
              "==============================================================================\n",
              "                 coef    std err          t      P>|t|      [0.025      0.975]\n",
              "------------------------------------------------------------------------------\n",
              "const       5.011e+04   6647.870      7.537      0.000    3.67e+04    6.35e+04\n",
              "x1           220.1585   2900.536      0.076      0.940   -5621.821    6062.138\n",
              "x2             0.8060      0.046     17.606      0.000       0.714       0.898\n",
              "x3            -0.0270      0.052     -0.523      0.604      -0.131       0.077\n",
              "x4             0.0270      0.017      1.592      0.118      -0.007       0.061\n",
              "==============================================================================\n",
              "Omnibus:                       14.758   Durbin-Watson:                   1.282\n",
              "Prob(Omnibus):                  0.001   Jarque-Bera (JB):               21.172\n",
              "Skew:                          -0.948   Prob(JB):                     2.53e-05\n",
              "Kurtosis:                       5.563   Cond. No.                     1.40e+06\n",
              "==============================================================================\n",
              "\n",
              "Notes:\n",
              "[1] Standard Errors assume that the covariance matrix of the errors is correctly specified.\n",
              "[2] The condition number is large, 1.4e+06. This might indicate that there are\n",
              "strong multicollinearity or other numerical problems.\n",
              "\"\"\""
            ],
            "text/html": [
              "<table class=\"simpletable\">\n",
              "<caption>OLS Regression Results</caption>\n",
              "<tr>\n",
              "  <th>Dep. Variable:</th>            <td>y</td>        <th>  R-squared:         </th> <td>   0.951</td>\n",
              "</tr>\n",
              "<tr>\n",
              "  <th>Model:</th>                   <td>OLS</td>       <th>  Adj. R-squared:    </th> <td>   0.946</td>\n",
              "</tr>\n",
              "<tr>\n",
              "  <th>Method:</th>             <td>Least Squares</td>  <th>  F-statistic:       </th> <td>   217.2</td>\n",
              "</tr>\n",
              "<tr>\n",
              "  <th>Date:</th>             <td>Thu, 29 Jun 2023</td> <th>  Prob (F-statistic):</th> <td>8.49e-29</td>\n",
              "</tr>\n",
              "<tr>\n",
              "  <th>Time:</th>                 <td>16:07:50</td>     <th>  Log-Likelihood:    </th> <td> -525.38</td>\n",
              "</tr>\n",
              "<tr>\n",
              "  <th>No. Observations:</th>      <td>    50</td>      <th>  AIC:               </th> <td>   1061.</td>\n",
              "</tr>\n",
              "<tr>\n",
              "  <th>Df Residuals:</th>          <td>    45</td>      <th>  BIC:               </th> <td>   1070.</td>\n",
              "</tr>\n",
              "<tr>\n",
              "  <th>Df Model:</th>              <td>     4</td>      <th>                     </th>     <td> </td>   \n",
              "</tr>\n",
              "<tr>\n",
              "  <th>Covariance Type:</th>      <td>nonrobust</td>    <th>                     </th>     <td> </td>   \n",
              "</tr>\n",
              "</table>\n",
              "<table class=\"simpletable\">\n",
              "<tr>\n",
              "    <td></td>       <th>coef</th>     <th>std err</th>      <th>t</th>      <th>P>|t|</th>  <th>[0.025</th>    <th>0.975]</th>  \n",
              "</tr>\n",
              "<tr>\n",
              "  <th>const</th> <td> 5.011e+04</td> <td> 6647.870</td> <td>    7.537</td> <td> 0.000</td> <td> 3.67e+04</td> <td> 6.35e+04</td>\n",
              "</tr>\n",
              "<tr>\n",
              "  <th>x1</th>    <td>  220.1585</td> <td> 2900.536</td> <td>    0.076</td> <td> 0.940</td> <td>-5621.821</td> <td> 6062.138</td>\n",
              "</tr>\n",
              "<tr>\n",
              "  <th>x2</th>    <td>    0.8060</td> <td>    0.046</td> <td>   17.606</td> <td> 0.000</td> <td>    0.714</td> <td>    0.898</td>\n",
              "</tr>\n",
              "<tr>\n",
              "  <th>x3</th>    <td>   -0.0270</td> <td>    0.052</td> <td>   -0.523</td> <td> 0.604</td> <td>   -0.131</td> <td>    0.077</td>\n",
              "</tr>\n",
              "<tr>\n",
              "  <th>x4</th>    <td>    0.0270</td> <td>    0.017</td> <td>    1.592</td> <td> 0.118</td> <td>   -0.007</td> <td>    0.061</td>\n",
              "</tr>\n",
              "</table>\n",
              "<table class=\"simpletable\">\n",
              "<tr>\n",
              "  <th>Omnibus:</th>       <td>14.758</td> <th>  Durbin-Watson:     </th> <td>   1.282</td>\n",
              "</tr>\n",
              "<tr>\n",
              "  <th>Prob(Omnibus):</th> <td> 0.001</td> <th>  Jarque-Bera (JB):  </th> <td>  21.172</td>\n",
              "</tr>\n",
              "<tr>\n",
              "  <th>Skew:</th>          <td>-0.948</td> <th>  Prob(JB):          </th> <td>2.53e-05</td>\n",
              "</tr>\n",
              "<tr>\n",
              "  <th>Kurtosis:</th>      <td> 5.563</td> <th>  Cond. No.          </th> <td>1.40e+06</td>\n",
              "</tr>\n",
              "</table><br/><br/>Notes:<br/>[1] Standard Errors assume that the covariance matrix of the errors is correctly specified.<br/>[2] The condition number is large, 1.4e+06. This might indicate that there are<br/>strong multicollinearity or other numerical problems."
            ]
          },
          "metadata": {},
          "execution_count": 94
        }
      ]
    },
    {
      "cell_type": "code",
      "source": [
        "# Removing the predictor (colunm index 1: Dummy 1) with highest Significance level (SL)\n",
        "# as the pvalue  (L>|t|) is greater than the decided SL of 0.05\n",
        "# and previously removed index 2\n",
        "# 0:constant, 1:dummy 1, 2:dummy2, 3:R&D Spend, 4:Admin Spend, 5:Marketing Spend\n",
        "X_opt = X[:,[0,3,4,5]]\n",
        "X_opt = X_opt.astype(np.float64)\n",
        "X_opt"
      ],
      "metadata": {
        "colab": {
          "base_uri": "https://localhost:8080/"
        },
        "id": "mQV19MlE2x8o",
        "outputId": "55748670-ee28-46d8-f219-f61ddae0a7d0"
      },
      "execution_count": 95,
      "outputs": [
        {
          "output_type": "execute_result",
          "data": {
            "text/plain": [
              "array([[1.00e+00, 1.65e+05, 1.37e+05, 4.72e+05],\n",
              "       [1.00e+00, 1.63e+05, 1.51e+05, 4.44e+05],\n",
              "       [1.00e+00, 1.53e+05, 1.01e+05, 4.08e+05],\n",
              "       [1.00e+00, 1.44e+05, 1.19e+05, 3.83e+05],\n",
              "       [1.00e+00, 1.42e+05, 9.14e+04, 3.66e+05],\n",
              "       [1.00e+00, 1.32e+05, 9.98e+04, 3.63e+05],\n",
              "       [1.00e+00, 1.35e+05, 1.47e+05, 1.28e+05],\n",
              "       [1.00e+00, 1.30e+05, 1.46e+05, 3.24e+05],\n",
              "       [1.00e+00, 1.21e+05, 1.49e+05, 3.12e+05],\n",
              "       [1.00e+00, 1.23e+05, 1.09e+05, 3.05e+05],\n",
              "       [1.00e+00, 1.02e+05, 1.11e+05, 2.29e+05],\n",
              "       [1.00e+00, 1.01e+05, 9.18e+04, 2.50e+05],\n",
              "       [1.00e+00, 9.39e+04, 1.27e+05, 2.50e+05],\n",
              "       [1.00e+00, 9.20e+04, 1.35e+05, 2.53e+05],\n",
              "       [1.00e+00, 1.20e+05, 1.57e+05, 2.57e+05],\n",
              "       [1.00e+00, 1.15e+05, 1.23e+05, 2.62e+05],\n",
              "       [1.00e+00, 7.80e+04, 1.22e+05, 2.64e+05],\n",
              "       [1.00e+00, 9.47e+04, 1.45e+05, 2.83e+05],\n",
              "       [1.00e+00, 9.17e+04, 1.14e+05, 2.95e+05],\n",
              "       [1.00e+00, 8.64e+04, 1.54e+05, 0.00e+00],\n",
              "       [1.00e+00, 7.63e+04, 1.14e+05, 2.99e+05],\n",
              "       [1.00e+00, 7.84e+04, 1.54e+05, 3.00e+05],\n",
              "       [1.00e+00, 7.40e+04, 1.23e+05, 3.03e+05],\n",
              "       [1.00e+00, 6.75e+04, 1.06e+05, 3.05e+05],\n",
              "       [1.00e+00, 7.70e+04, 9.93e+04, 1.41e+05],\n",
              "       [1.00e+00, 6.47e+04, 1.40e+05, 1.38e+05],\n",
              "       [1.00e+00, 7.53e+04, 1.44e+05, 1.34e+05],\n",
              "       [1.00e+00, 7.21e+04, 1.28e+05, 3.53e+05],\n",
              "       [1.00e+00, 6.61e+04, 1.83e+05, 1.18e+05],\n",
              "       [1.00e+00, 6.56e+04, 1.53e+05, 1.07e+05],\n",
              "       [1.00e+00, 6.20e+04, 1.16e+05, 9.11e+04],\n",
              "       [1.00e+00, 6.11e+04, 1.53e+05, 8.82e+04],\n",
              "       [1.00e+00, 6.34e+04, 1.29e+05, 4.61e+04],\n",
              "       [1.00e+00, 5.55e+04, 1.03e+05, 2.15e+05],\n",
              "       [1.00e+00, 4.64e+04, 1.58e+05, 2.11e+05],\n",
              "       [1.00e+00, 4.60e+04, 8.50e+04, 2.06e+05],\n",
              "       [1.00e+00, 2.87e+04, 1.27e+05, 2.01e+05],\n",
              "       [1.00e+00, 4.41e+04, 5.13e+04, 1.97e+05],\n",
              "       [1.00e+00, 2.02e+04, 6.59e+04, 1.85e+05],\n",
              "       [1.00e+00, 3.86e+04, 8.30e+04, 1.75e+05],\n",
              "       [1.00e+00, 2.88e+04, 1.19e+05, 1.73e+05],\n",
              "       [1.00e+00, 2.79e+04, 8.47e+04, 1.64e+05],\n",
              "       [1.00e+00, 2.36e+04, 9.62e+04, 1.48e+05],\n",
              "       [1.00e+00, 1.55e+04, 1.27e+05, 3.55e+04],\n",
              "       [1.00e+00, 2.22e+04, 1.55e+05, 2.83e+04],\n",
              "       [1.00e+00, 1.00e+03, 1.24e+05, 1.90e+03],\n",
              "       [1.00e+00, 1.32e+03, 1.16e+05, 2.97e+05],\n",
              "       [1.00e+00, 0.00e+00, 1.35e+05, 0.00e+00],\n",
              "       [1.00e+00, 5.42e+02, 5.17e+04, 0.00e+00],\n",
              "       [1.00e+00, 0.00e+00, 1.17e+05, 4.52e+04]])"
            ]
          },
          "metadata": {},
          "execution_count": 95
        }
      ]
    },
    {
      "cell_type": "code",
      "source": [
        "# Fit the regressor model to the new optimized predictors\n",
        "regressor_OLS = sm.OLS(endog = y, exog = X_opt).fit() # OLS - Ordinary Least Square\n",
        "regressor_OLS.summary()\n",
        "# x1:R&d, x2:Admin, x3:marketing"
      ],
      "metadata": {
        "colab": {
          "base_uri": "https://localhost:8080/",
          "height": 529
        },
        "id": "bsTVteXR3Hb_",
        "outputId": "ceac61f4-33c8-46e1-a03f-621e89e5da07"
      },
      "execution_count": 96,
      "outputs": [
        {
          "output_type": "execute_result",
          "data": {
            "text/plain": [
              "<class 'statsmodels.iolib.summary.Summary'>\n",
              "\"\"\"\n",
              "                            OLS Regression Results                            \n",
              "==============================================================================\n",
              "Dep. Variable:                      y   R-squared:                       0.951\n",
              "Model:                            OLS   Adj. R-squared:                  0.948\n",
              "Method:                 Least Squares   F-statistic:                     296.0\n",
              "Date:                Thu, 29 Jun 2023   Prob (F-statistic):           4.53e-30\n",
              "Time:                        16:11:07   Log-Likelihood:                -525.39\n",
              "No. Observations:                  50   AIC:                             1059.\n",
              "Df Residuals:                      46   BIC:                             1066.\n",
              "Df Model:                           3                                         \n",
              "Covariance Type:            nonrobust                                         \n",
              "==============================================================================\n",
              "                 coef    std err          t      P>|t|      [0.025      0.975]\n",
              "------------------------------------------------------------------------------\n",
              "const       5.012e+04   6572.353      7.626      0.000    3.69e+04    6.34e+04\n",
              "x1             0.8057      0.045     17.846      0.000       0.715       0.897\n",
              "x2            -0.0268      0.051     -0.526      0.602      -0.130       0.076\n",
              "x3             0.0272      0.016      1.655      0.105      -0.006       0.060\n",
              "==============================================================================\n",
              "Omnibus:                       14.838   Durbin-Watson:                   1.282\n",
              "Prob(Omnibus):                  0.001   Jarque-Bera (JB):               21.442\n",
              "Skew:                          -0.949   Prob(JB):                     2.21e-05\n",
              "Kurtosis:                       5.586   Cond. No.                     1.40e+06\n",
              "==============================================================================\n",
              "\n",
              "Notes:\n",
              "[1] Standard Errors assume that the covariance matrix of the errors is correctly specified.\n",
              "[2] The condition number is large, 1.4e+06. This might indicate that there are\n",
              "strong multicollinearity or other numerical problems.\n",
              "\"\"\""
            ],
            "text/html": [
              "<table class=\"simpletable\">\n",
              "<caption>OLS Regression Results</caption>\n",
              "<tr>\n",
              "  <th>Dep. Variable:</th>            <td>y</td>        <th>  R-squared:         </th> <td>   0.951</td>\n",
              "</tr>\n",
              "<tr>\n",
              "  <th>Model:</th>                   <td>OLS</td>       <th>  Adj. R-squared:    </th> <td>   0.948</td>\n",
              "</tr>\n",
              "<tr>\n",
              "  <th>Method:</th>             <td>Least Squares</td>  <th>  F-statistic:       </th> <td>   296.0</td>\n",
              "</tr>\n",
              "<tr>\n",
              "  <th>Date:</th>             <td>Thu, 29 Jun 2023</td> <th>  Prob (F-statistic):</th> <td>4.53e-30</td>\n",
              "</tr>\n",
              "<tr>\n",
              "  <th>Time:</th>                 <td>16:11:07</td>     <th>  Log-Likelihood:    </th> <td> -525.39</td>\n",
              "</tr>\n",
              "<tr>\n",
              "  <th>No. Observations:</th>      <td>    50</td>      <th>  AIC:               </th> <td>   1059.</td>\n",
              "</tr>\n",
              "<tr>\n",
              "  <th>Df Residuals:</th>          <td>    46</td>      <th>  BIC:               </th> <td>   1066.</td>\n",
              "</tr>\n",
              "<tr>\n",
              "  <th>Df Model:</th>              <td>     3</td>      <th>                     </th>     <td> </td>   \n",
              "</tr>\n",
              "<tr>\n",
              "  <th>Covariance Type:</th>      <td>nonrobust</td>    <th>                     </th>     <td> </td>   \n",
              "</tr>\n",
              "</table>\n",
              "<table class=\"simpletable\">\n",
              "<tr>\n",
              "    <td></td>       <th>coef</th>     <th>std err</th>      <th>t</th>      <th>P>|t|</th>  <th>[0.025</th>    <th>0.975]</th>  \n",
              "</tr>\n",
              "<tr>\n",
              "  <th>const</th> <td> 5.012e+04</td> <td> 6572.353</td> <td>    7.626</td> <td> 0.000</td> <td> 3.69e+04</td> <td> 6.34e+04</td>\n",
              "</tr>\n",
              "<tr>\n",
              "  <th>x1</th>    <td>    0.8057</td> <td>    0.045</td> <td>   17.846</td> <td> 0.000</td> <td>    0.715</td> <td>    0.897</td>\n",
              "</tr>\n",
              "<tr>\n",
              "  <th>x2</th>    <td>   -0.0268</td> <td>    0.051</td> <td>   -0.526</td> <td> 0.602</td> <td>   -0.130</td> <td>    0.076</td>\n",
              "</tr>\n",
              "<tr>\n",
              "  <th>x3</th>    <td>    0.0272</td> <td>    0.016</td> <td>    1.655</td> <td> 0.105</td> <td>   -0.006</td> <td>    0.060</td>\n",
              "</tr>\n",
              "</table>\n",
              "<table class=\"simpletable\">\n",
              "<tr>\n",
              "  <th>Omnibus:</th>       <td>14.838</td> <th>  Durbin-Watson:     </th> <td>   1.282</td>\n",
              "</tr>\n",
              "<tr>\n",
              "  <th>Prob(Omnibus):</th> <td> 0.001</td> <th>  Jarque-Bera (JB):  </th> <td>  21.442</td>\n",
              "</tr>\n",
              "<tr>\n",
              "  <th>Skew:</th>          <td>-0.949</td> <th>  Prob(JB):          </th> <td>2.21e-05</td>\n",
              "</tr>\n",
              "<tr>\n",
              "  <th>Kurtosis:</th>      <td> 5.586</td> <th>  Cond. No.          </th> <td>1.40e+06</td>\n",
              "</tr>\n",
              "</table><br/><br/>Notes:<br/>[1] Standard Errors assume that the covariance matrix of the errors is correctly specified.<br/>[2] The condition number is large, 1.4e+06. This might indicate that there are<br/>strong multicollinearity or other numerical problems."
            ]
          },
          "metadata": {},
          "execution_count": 96
        }
      ]
    },
    {
      "cell_type": "code",
      "source": [
        "# Removing the predictor (colunm index 4: Admin Spend) with highest Significance level (SL)\n",
        "# as the pvalue  (L>|t|) is greater than the decided SL of 0.05\n",
        "# and previously removed index 1, 2\n",
        "# 0:constant, 1:dummy 1, 2:dummy2, 3:R&D Spend, 4:Admin Spend, 5:Marketing Spend\n",
        "X_opt = X[:,[0,3,5]]\n",
        "X_opt = X_opt.astype(np.float64)\n",
        "X_opt"
      ],
      "metadata": {
        "colab": {
          "base_uri": "https://localhost:8080/"
        },
        "id": "RBUVRaOG3Kar",
        "outputId": "32efe361-08e0-4ddf-a297-d1a5b77876f6"
      },
      "execution_count": 97,
      "outputs": [
        {
          "output_type": "execute_result",
          "data": {
            "text/plain": [
              "array([[1.00e+00, 1.65e+05, 4.72e+05],\n",
              "       [1.00e+00, 1.63e+05, 4.44e+05],\n",
              "       [1.00e+00, 1.53e+05, 4.08e+05],\n",
              "       [1.00e+00, 1.44e+05, 3.83e+05],\n",
              "       [1.00e+00, 1.42e+05, 3.66e+05],\n",
              "       [1.00e+00, 1.32e+05, 3.63e+05],\n",
              "       [1.00e+00, 1.35e+05, 1.28e+05],\n",
              "       [1.00e+00, 1.30e+05, 3.24e+05],\n",
              "       [1.00e+00, 1.21e+05, 3.12e+05],\n",
              "       [1.00e+00, 1.23e+05, 3.05e+05],\n",
              "       [1.00e+00, 1.02e+05, 2.29e+05],\n",
              "       [1.00e+00, 1.01e+05, 2.50e+05],\n",
              "       [1.00e+00, 9.39e+04, 2.50e+05],\n",
              "       [1.00e+00, 9.20e+04, 2.53e+05],\n",
              "       [1.00e+00, 1.20e+05, 2.57e+05],\n",
              "       [1.00e+00, 1.15e+05, 2.62e+05],\n",
              "       [1.00e+00, 7.80e+04, 2.64e+05],\n",
              "       [1.00e+00, 9.47e+04, 2.83e+05],\n",
              "       [1.00e+00, 9.17e+04, 2.95e+05],\n",
              "       [1.00e+00, 8.64e+04, 0.00e+00],\n",
              "       [1.00e+00, 7.63e+04, 2.99e+05],\n",
              "       [1.00e+00, 7.84e+04, 3.00e+05],\n",
              "       [1.00e+00, 7.40e+04, 3.03e+05],\n",
              "       [1.00e+00, 6.75e+04, 3.05e+05],\n",
              "       [1.00e+00, 7.70e+04, 1.41e+05],\n",
              "       [1.00e+00, 6.47e+04, 1.38e+05],\n",
              "       [1.00e+00, 7.53e+04, 1.34e+05],\n",
              "       [1.00e+00, 7.21e+04, 3.53e+05],\n",
              "       [1.00e+00, 6.61e+04, 1.18e+05],\n",
              "       [1.00e+00, 6.56e+04, 1.07e+05],\n",
              "       [1.00e+00, 6.20e+04, 9.11e+04],\n",
              "       [1.00e+00, 6.11e+04, 8.82e+04],\n",
              "       [1.00e+00, 6.34e+04, 4.61e+04],\n",
              "       [1.00e+00, 5.55e+04, 2.15e+05],\n",
              "       [1.00e+00, 4.64e+04, 2.11e+05],\n",
              "       [1.00e+00, 4.60e+04, 2.06e+05],\n",
              "       [1.00e+00, 2.87e+04, 2.01e+05],\n",
              "       [1.00e+00, 4.41e+04, 1.97e+05],\n",
              "       [1.00e+00, 2.02e+04, 1.85e+05],\n",
              "       [1.00e+00, 3.86e+04, 1.75e+05],\n",
              "       [1.00e+00, 2.88e+04, 1.73e+05],\n",
              "       [1.00e+00, 2.79e+04, 1.64e+05],\n",
              "       [1.00e+00, 2.36e+04, 1.48e+05],\n",
              "       [1.00e+00, 1.55e+04, 3.55e+04],\n",
              "       [1.00e+00, 2.22e+04, 2.83e+04],\n",
              "       [1.00e+00, 1.00e+03, 1.90e+03],\n",
              "       [1.00e+00, 1.32e+03, 2.97e+05],\n",
              "       [1.00e+00, 0.00e+00, 0.00e+00],\n",
              "       [1.00e+00, 5.42e+02, 0.00e+00],\n",
              "       [1.00e+00, 0.00e+00, 4.52e+04]])"
            ]
          },
          "metadata": {},
          "execution_count": 97
        }
      ]
    },
    {
      "cell_type": "code",
      "source": [
        "# Fit the regressor model to the new optimized predictors\n",
        "regressor_OLS = sm.OLS(endog = y, exog = X_opt).fit() # OLS - Ordinary Least Square\n",
        "regressor_OLS.summary()\n",
        "# x1:R&d, x2:marketing"
      ],
      "metadata": {
        "colab": {
          "base_uri": "https://localhost:8080/",
          "height": 508
        },
        "id": "8Bw4r6Bj3YvA",
        "outputId": "a4c78fa9-d389-4428-8a1e-f68268fabf0d"
      },
      "execution_count": 98,
      "outputs": [
        {
          "output_type": "execute_result",
          "data": {
            "text/plain": [
              "<class 'statsmodels.iolib.summary.Summary'>\n",
              "\"\"\"\n",
              "                            OLS Regression Results                            \n",
              "==============================================================================\n",
              "Dep. Variable:                      y   R-squared:                       0.950\n",
              "Model:                            OLS   Adj. R-squared:                  0.948\n",
              "Method:                 Least Squares   F-statistic:                     450.8\n",
              "Date:                Thu, 29 Jun 2023   Prob (F-statistic):           2.16e-31\n",
              "Time:                        16:23:48   Log-Likelihood:                -525.54\n",
              "No. Observations:                  50   AIC:                             1057.\n",
              "Df Residuals:                      47   BIC:                             1063.\n",
              "Df Model:                           2                                         \n",
              "Covariance Type:            nonrobust                                         \n",
              "==============================================================================\n",
              "                 coef    std err          t      P>|t|      [0.025      0.975]\n",
              "------------------------------------------------------------------------------\n",
              "const       4.698e+04   2689.933     17.464      0.000    4.16e+04    5.24e+04\n",
              "x1             0.7966      0.041     19.266      0.000       0.713       0.880\n",
              "x2             0.0299      0.016      1.927      0.060      -0.001       0.061\n",
              "==============================================================================\n",
              "Omnibus:                       14.677   Durbin-Watson:                   1.257\n",
              "Prob(Omnibus):                  0.001   Jarque-Bera (JB):               21.161\n",
              "Skew:                          -0.939   Prob(JB):                     2.54e-05\n",
              "Kurtosis:                       5.575   Cond. No.                     5.32e+05\n",
              "==============================================================================\n",
              "\n",
              "Notes:\n",
              "[1] Standard Errors assume that the covariance matrix of the errors is correctly specified.\n",
              "[2] The condition number is large, 5.32e+05. This might indicate that there are\n",
              "strong multicollinearity or other numerical problems.\n",
              "\"\"\""
            ],
            "text/html": [
              "<table class=\"simpletable\">\n",
              "<caption>OLS Regression Results</caption>\n",
              "<tr>\n",
              "  <th>Dep. Variable:</th>            <td>y</td>        <th>  R-squared:         </th> <td>   0.950</td>\n",
              "</tr>\n",
              "<tr>\n",
              "  <th>Model:</th>                   <td>OLS</td>       <th>  Adj. R-squared:    </th> <td>   0.948</td>\n",
              "</tr>\n",
              "<tr>\n",
              "  <th>Method:</th>             <td>Least Squares</td>  <th>  F-statistic:       </th> <td>   450.8</td>\n",
              "</tr>\n",
              "<tr>\n",
              "  <th>Date:</th>             <td>Thu, 29 Jun 2023</td> <th>  Prob (F-statistic):</th> <td>2.16e-31</td>\n",
              "</tr>\n",
              "<tr>\n",
              "  <th>Time:</th>                 <td>16:23:48</td>     <th>  Log-Likelihood:    </th> <td> -525.54</td>\n",
              "</tr>\n",
              "<tr>\n",
              "  <th>No. Observations:</th>      <td>    50</td>      <th>  AIC:               </th> <td>   1057.</td>\n",
              "</tr>\n",
              "<tr>\n",
              "  <th>Df Residuals:</th>          <td>    47</td>      <th>  BIC:               </th> <td>   1063.</td>\n",
              "</tr>\n",
              "<tr>\n",
              "  <th>Df Model:</th>              <td>     2</td>      <th>                     </th>     <td> </td>   \n",
              "</tr>\n",
              "<tr>\n",
              "  <th>Covariance Type:</th>      <td>nonrobust</td>    <th>                     </th>     <td> </td>   \n",
              "</tr>\n",
              "</table>\n",
              "<table class=\"simpletable\">\n",
              "<tr>\n",
              "    <td></td>       <th>coef</th>     <th>std err</th>      <th>t</th>      <th>P>|t|</th>  <th>[0.025</th>    <th>0.975]</th>  \n",
              "</tr>\n",
              "<tr>\n",
              "  <th>const</th> <td> 4.698e+04</td> <td> 2689.933</td> <td>   17.464</td> <td> 0.000</td> <td> 4.16e+04</td> <td> 5.24e+04</td>\n",
              "</tr>\n",
              "<tr>\n",
              "  <th>x1</th>    <td>    0.7966</td> <td>    0.041</td> <td>   19.266</td> <td> 0.000</td> <td>    0.713</td> <td>    0.880</td>\n",
              "</tr>\n",
              "<tr>\n",
              "  <th>x2</th>    <td>    0.0299</td> <td>    0.016</td> <td>    1.927</td> <td> 0.060</td> <td>   -0.001</td> <td>    0.061</td>\n",
              "</tr>\n",
              "</table>\n",
              "<table class=\"simpletable\">\n",
              "<tr>\n",
              "  <th>Omnibus:</th>       <td>14.677</td> <th>  Durbin-Watson:     </th> <td>   1.257</td>\n",
              "</tr>\n",
              "<tr>\n",
              "  <th>Prob(Omnibus):</th> <td> 0.001</td> <th>  Jarque-Bera (JB):  </th> <td>  21.161</td>\n",
              "</tr>\n",
              "<tr>\n",
              "  <th>Skew:</th>          <td>-0.939</td> <th>  Prob(JB):          </th> <td>2.54e-05</td>\n",
              "</tr>\n",
              "<tr>\n",
              "  <th>Kurtosis:</th>      <td> 5.575</td> <th>  Cond. No.          </th> <td>5.32e+05</td>\n",
              "</tr>\n",
              "</table><br/><br/>Notes:<br/>[1] Standard Errors assume that the covariance matrix of the errors is correctly specified.<br/>[2] The condition number is large, 5.32e+05. This might indicate that there are<br/>strong multicollinearity or other numerical problems."
            ]
          },
          "metadata": {},
          "execution_count": 98
        }
      ]
    },
    {
      "cell_type": "code",
      "source": [
        "# Removing the predictor (colunm index 5: Marketing) with highest Significance level (SL)\n",
        "# as the pvalue  (L>|t|) is greater than the decided SL of 0.05\n",
        "# and previously removed index 1, 2, 4\n",
        "# 0:constant, 1:dummy 1, 2:dummy2, 3:R&D Spend, 4:Admin Spend, 5:Marketing Spend\n",
        "X_opt = X[:,[0,3]]\n",
        "X_opt = X_opt.astype(np.float64)\n",
        "X_opt"
      ],
      "metadata": {
        "colab": {
          "base_uri": "https://localhost:8080/"
        },
        "id": "J0YIcCrr3c-K",
        "outputId": "0c914d9d-f25c-4e88-a64c-7c51505256c6"
      },
      "execution_count": 99,
      "outputs": [
        {
          "output_type": "execute_result",
          "data": {
            "text/plain": [
              "array([[1.00e+00, 1.65e+05],\n",
              "       [1.00e+00, 1.63e+05],\n",
              "       [1.00e+00, 1.53e+05],\n",
              "       [1.00e+00, 1.44e+05],\n",
              "       [1.00e+00, 1.42e+05],\n",
              "       [1.00e+00, 1.32e+05],\n",
              "       [1.00e+00, 1.35e+05],\n",
              "       [1.00e+00, 1.30e+05],\n",
              "       [1.00e+00, 1.21e+05],\n",
              "       [1.00e+00, 1.23e+05],\n",
              "       [1.00e+00, 1.02e+05],\n",
              "       [1.00e+00, 1.01e+05],\n",
              "       [1.00e+00, 9.39e+04],\n",
              "       [1.00e+00, 9.20e+04],\n",
              "       [1.00e+00, 1.20e+05],\n",
              "       [1.00e+00, 1.15e+05],\n",
              "       [1.00e+00, 7.80e+04],\n",
              "       [1.00e+00, 9.47e+04],\n",
              "       [1.00e+00, 9.17e+04],\n",
              "       [1.00e+00, 8.64e+04],\n",
              "       [1.00e+00, 7.63e+04],\n",
              "       [1.00e+00, 7.84e+04],\n",
              "       [1.00e+00, 7.40e+04],\n",
              "       [1.00e+00, 6.75e+04],\n",
              "       [1.00e+00, 7.70e+04],\n",
              "       [1.00e+00, 6.47e+04],\n",
              "       [1.00e+00, 7.53e+04],\n",
              "       [1.00e+00, 7.21e+04],\n",
              "       [1.00e+00, 6.61e+04],\n",
              "       [1.00e+00, 6.56e+04],\n",
              "       [1.00e+00, 6.20e+04],\n",
              "       [1.00e+00, 6.11e+04],\n",
              "       [1.00e+00, 6.34e+04],\n",
              "       [1.00e+00, 5.55e+04],\n",
              "       [1.00e+00, 4.64e+04],\n",
              "       [1.00e+00, 4.60e+04],\n",
              "       [1.00e+00, 2.87e+04],\n",
              "       [1.00e+00, 4.41e+04],\n",
              "       [1.00e+00, 2.02e+04],\n",
              "       [1.00e+00, 3.86e+04],\n",
              "       [1.00e+00, 2.88e+04],\n",
              "       [1.00e+00, 2.79e+04],\n",
              "       [1.00e+00, 2.36e+04],\n",
              "       [1.00e+00, 1.55e+04],\n",
              "       [1.00e+00, 2.22e+04],\n",
              "       [1.00e+00, 1.00e+03],\n",
              "       [1.00e+00, 1.32e+03],\n",
              "       [1.00e+00, 0.00e+00],\n",
              "       [1.00e+00, 5.42e+02],\n",
              "       [1.00e+00, 0.00e+00]])"
            ]
          },
          "metadata": {},
          "execution_count": 99
        }
      ]
    },
    {
      "cell_type": "code",
      "source": [
        "# Fit the regressor model to the new optimized predictors\n",
        "regressor_OLS = sm.OLS(endog = y, exog = X_opt).fit() # OLS - Ordinary Least Square\n",
        "regressor_OLS.summary()"
      ],
      "metadata": {
        "colab": {
          "base_uri": "https://localhost:8080/",
          "height": 486
        },
        "id": "Gqg1t13r3sEw",
        "outputId": "2f8806c1-b038-488e-b5f7-1907e0da5283"
      },
      "execution_count": 100,
      "outputs": [
        {
          "output_type": "execute_result",
          "data": {
            "text/plain": [
              "<class 'statsmodels.iolib.summary.Summary'>\n",
              "\"\"\"\n",
              "                            OLS Regression Results                            \n",
              "==============================================================================\n",
              "Dep. Variable:                      y   R-squared:                       0.947\n",
              "Model:                            OLS   Adj. R-squared:                  0.945\n",
              "Method:                 Least Squares   F-statistic:                     849.8\n",
              "Date:                Thu, 29 Jun 2023   Prob (F-statistic):           3.50e-32\n",
              "Time:                        16:25:55   Log-Likelihood:                -527.44\n",
              "No. Observations:                  50   AIC:                             1059.\n",
              "Df Residuals:                      48   BIC:                             1063.\n",
              "Df Model:                           1                                         \n",
              "Covariance Type:            nonrobust                                         \n",
              "==============================================================================\n",
              "                 coef    std err          t      P>|t|      [0.025      0.975]\n",
              "------------------------------------------------------------------------------\n",
              "const       4.903e+04   2537.897     19.320      0.000    4.39e+04    5.41e+04\n",
              "x1             0.8543      0.029     29.151      0.000       0.795       0.913\n",
              "==============================================================================\n",
              "Omnibus:                       13.727   Durbin-Watson:                   1.116\n",
              "Prob(Omnibus):                  0.001   Jarque-Bera (JB):               18.536\n",
              "Skew:                          -0.911   Prob(JB):                     9.44e-05\n",
              "Kurtosis:                       5.361   Cond. No.                     1.65e+05\n",
              "==============================================================================\n",
              "\n",
              "Notes:\n",
              "[1] Standard Errors assume that the covariance matrix of the errors is correctly specified.\n",
              "[2] The condition number is large, 1.65e+05. This might indicate that there are\n",
              "strong multicollinearity or other numerical problems.\n",
              "\"\"\""
            ],
            "text/html": [
              "<table class=\"simpletable\">\n",
              "<caption>OLS Regression Results</caption>\n",
              "<tr>\n",
              "  <th>Dep. Variable:</th>            <td>y</td>        <th>  R-squared:         </th> <td>   0.947</td>\n",
              "</tr>\n",
              "<tr>\n",
              "  <th>Model:</th>                   <td>OLS</td>       <th>  Adj. R-squared:    </th> <td>   0.945</td>\n",
              "</tr>\n",
              "<tr>\n",
              "  <th>Method:</th>             <td>Least Squares</td>  <th>  F-statistic:       </th> <td>   849.8</td>\n",
              "</tr>\n",
              "<tr>\n",
              "  <th>Date:</th>             <td>Thu, 29 Jun 2023</td> <th>  Prob (F-statistic):</th> <td>3.50e-32</td>\n",
              "</tr>\n",
              "<tr>\n",
              "  <th>Time:</th>                 <td>16:25:55</td>     <th>  Log-Likelihood:    </th> <td> -527.44</td>\n",
              "</tr>\n",
              "<tr>\n",
              "  <th>No. Observations:</th>      <td>    50</td>      <th>  AIC:               </th> <td>   1059.</td>\n",
              "</tr>\n",
              "<tr>\n",
              "  <th>Df Residuals:</th>          <td>    48</td>      <th>  BIC:               </th> <td>   1063.</td>\n",
              "</tr>\n",
              "<tr>\n",
              "  <th>Df Model:</th>              <td>     1</td>      <th>                     </th>     <td> </td>   \n",
              "</tr>\n",
              "<tr>\n",
              "  <th>Covariance Type:</th>      <td>nonrobust</td>    <th>                     </th>     <td> </td>   \n",
              "</tr>\n",
              "</table>\n",
              "<table class=\"simpletable\">\n",
              "<tr>\n",
              "    <td></td>       <th>coef</th>     <th>std err</th>      <th>t</th>      <th>P>|t|</th>  <th>[0.025</th>    <th>0.975]</th>  \n",
              "</tr>\n",
              "<tr>\n",
              "  <th>const</th> <td> 4.903e+04</td> <td> 2537.897</td> <td>   19.320</td> <td> 0.000</td> <td> 4.39e+04</td> <td> 5.41e+04</td>\n",
              "</tr>\n",
              "<tr>\n",
              "  <th>x1</th>    <td>    0.8543</td> <td>    0.029</td> <td>   29.151</td> <td> 0.000</td> <td>    0.795</td> <td>    0.913</td>\n",
              "</tr>\n",
              "</table>\n",
              "<table class=\"simpletable\">\n",
              "<tr>\n",
              "  <th>Omnibus:</th>       <td>13.727</td> <th>  Durbin-Watson:     </th> <td>   1.116</td>\n",
              "</tr>\n",
              "<tr>\n",
              "  <th>Prob(Omnibus):</th> <td> 0.001</td> <th>  Jarque-Bera (JB):  </th> <td>  18.536</td>\n",
              "</tr>\n",
              "<tr>\n",
              "  <th>Skew:</th>          <td>-0.911</td> <th>  Prob(JB):          </th> <td>9.44e-05</td>\n",
              "</tr>\n",
              "<tr>\n",
              "  <th>Kurtosis:</th>      <td> 5.361</td> <th>  Cond. No.          </th> <td>1.65e+05</td>\n",
              "</tr>\n",
              "</table><br/><br/>Notes:<br/>[1] Standard Errors assume that the covariance matrix of the errors is correctly specified.<br/>[2] The condition number is large, 1.65e+05. This might indicate that there are<br/>strong multicollinearity or other numerical problems."
            ]
          },
          "metadata": {},
          "execution_count": 100
        }
      ]
    },
    {
      "cell_type": "code",
      "source": [],
      "metadata": {
        "id": "Il59jpK43xGr"
      },
      "execution_count": null,
      "outputs": []
    }
  ]
}